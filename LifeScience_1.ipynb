{
  "nbformat": 4,
  "nbformat_minor": 0,
  "metadata": {
    "colab": {
      "name": "Sol. LifeScience 1.ipynb",
      "provenance": [],
      "collapsed_sections": []
    },
    "kernelspec": {
      "name": "python3",
      "display_name": "Python 3"
    }
  },
  "cells": [
    {
      "cell_type": "code",
      "metadata": {
        "id": "eE1crgo7mXAz",
        "colab_type": "code",
        "colab": {}
      },
      "source": [
        "import numpy as np\n",
        "import pandas as pd\n",
        "import re\n",
        "import string\n",
        "import requests\n",
        "from bs4 import BeautifulSoup\n",
        "import pickle\n",
        "import tensorflow as tf\n",
        "import keras"
      ],
      "execution_count": 371,
      "outputs": []
    },
    {
      "cell_type": "code",
      "metadata": {
        "id": "iBNHukK6mcxQ",
        "colab_type": "code",
        "colab": {}
      },
      "source": [
        "dataset=pd.read_csv('/content/drive/My Drive/Solera Life Sciences/bloating_diarrhea_9(a).csv')"
      ],
      "execution_count": 372,
      "outputs": []
    },
    {
      "cell_type": "code",
      "metadata": {
        "id": "z27578x2my3B",
        "colab_type": "code",
        "colab": {}
      },
      "source": [
        "X=dataset.iloc[:,0]"
      ],
      "execution_count": 373,
      "outputs": []
    },
    {
      "cell_type": "code",
      "metadata": {
        "id": "XA17ToVsuhmB",
        "colab_type": "code",
        "colab": {}
      },
      "source": [
        "X1=dataset.iloc[:,1]"
      ],
      "execution_count": 374,
      "outputs": []
    },
    {
      "cell_type": "code",
      "metadata": {
        "id": "mGL7UkEDm9OG",
        "colab_type": "code",
        "colab": {}
      },
      "source": [
        "X2=X.str.split(\"'\",n=2,expand=True)\n",
        "\"\"\"for col_name in X2.columns: \n",
        "    print(col_name)\"\"\"\n",
        "#X2.columns[0]\n",
        "X2=X2.rename(columns={0:\"A\",1:\"B\",2:\"C\"})"
      ],
      "execution_count": 376,
      "outputs": []
    },
    {
      "cell_type": "code",
      "metadata": {
        "id": "yIG2LGW0ufXP",
        "colab_type": "code",
        "colab": {}
      },
      "source": [
        "X3=X1.str.split(\"'\",n=10,expand=True)\n",
        "X3=X3.rename(columns={0:\"D\",1:\"E\",2:\"F\",3:\"G\",4:\"H\",5:\"I\",6:\"J\",7:\"K\",8:\"L\",9:\"M\",10:\"N\"})\n"
      ],
      "execution_count": 377,
      "outputs": []
    },
    {
      "cell_type": "code",
      "metadata": {
        "id": "wwhpKPu5wNPz",
        "colab_type": "code",
        "colab": {}
      },
      "source": [
        "#X3"
      ],
      "execution_count": 34,
      "outputs": []
    },
    {
      "cell_type": "code",
      "metadata": {
        "id": "aegcxLwmT27U",
        "colab_type": "code",
        "colab": {}
      },
      "source": [
        "X3.iloc[:,2].fillna(value='Notpresent', inplace=True)\n",
        "X3.iloc[:,4].fillna(value='Notpresent', inplace=True)\n",
        "X3.iloc[:,6].fillna(value='Notpresent', inplace=True)\n",
        "X3.iloc[:,8].fillna(value='Notpresent', inplace=True)"
      ],
      "execution_count": 378,
      "outputs": []
    },
    {
      "cell_type": "code",
      "metadata": {
        "id": "YQlGD151V4I7",
        "colab_type": "code",
        "colab": {}
      },
      "source": [
        "X3.iloc[:,3].fillna(value=-1, inplace=True)\n",
        "X3.iloc[:,5].fillna(value=-1, inplace=True)\n",
        "X3.iloc[:,7].fillna(value=-1, inplace=True)\n",
        "X3.iloc[:,9].fillna(value=-1, inplace=True)"
      ],
      "execution_count": 379,
      "outputs": []
    },
    {
      "cell_type": "code",
      "metadata": {
        "id": "2Yy3POJ2Up9T",
        "colab_type": "code",
        "colab": {}
      },
      "source": [
        "#X3"
      ],
      "execution_count": 37,
      "outputs": []
    },
    {
      "cell_type": "code",
      "metadata": {
        "id": "AJmTOPjAU38S",
        "colab_type": "code",
        "colab": {}
      },
      "source": [
        "X3.iloc[:,2]=X3.iloc[:,2].replace('',\"-1\")\n",
        "X3.iloc[:,4]=X3.iloc[:,4].replace('',\"-1\")\n",
        "X3.iloc[:,6]=X3.iloc[:,6].replace('',\"-1\")\n",
        "X3.iloc[:,8]=X3.iloc[:,8].replace('',\"-1\")"
      ],
      "execution_count": 380,
      "outputs": []
    },
    {
      "cell_type": "code",
      "metadata": {
        "id": "l_kME6m3VOvH",
        "colab_type": "code",
        "colab": {}
      },
      "source": [
        "#X3"
      ],
      "execution_count": 39,
      "outputs": []
    },
    {
      "cell_type": "code",
      "metadata": {
        "id": "st_zbuxyW3Cb",
        "colab_type": "code",
        "colab": {}
      },
      "source": [
        "from sklearn.preprocessing import LabelEncoder\n",
        "le = LabelEncoder()\n",
        "X2.iloc[:,0]=le.fit_transform(X3.iloc[:,0])\n",
        "X2.iloc[:,1]=le.fit_transform(X3.iloc[:,1])\n",
        "X3.iloc[:,0]=le.fit_transform(X3.iloc[:,0])\n",
        "X3.iloc[:,2]=le.fit_transform(X3.iloc[:,2])\n",
        "X3.iloc[:,4]=le.fit_transform(X3.iloc[:,4])\n",
        "X3.iloc[:,6]=le.fit_transform(X3.iloc[:,6])\n",
        "X3.iloc[:,8]=le.fit_transform(X3.iloc[:,8])"
      ],
      "execution_count": 381,
      "outputs": []
    },
    {
      "cell_type": "code",
      "metadata": {
        "id": "2SNHKE3DuFz3",
        "colab_type": "code",
        "colab": {}
      },
      "source": [
        "X2=X2.iloc[:,:-1]"
      ],
      "execution_count": 382,
      "outputs": []
    },
    {
      "cell_type": "code",
      "metadata": {
        "id": "_yOUuovLXBnu",
        "colab_type": "code",
        "colab": {}
      },
      "source": [
        "X3=X3.iloc[:,:-1]"
      ],
      "execution_count": 383,
      "outputs": []
    },
    {
      "cell_type": "code",
      "metadata": {
        "id": "rg8hH2mQsq45",
        "colab_type": "code",
        "colab": {}
      },
      "source": [
        "#X3"
      ],
      "execution_count": null,
      "outputs": []
    },
    {
      "cell_type": "markdown",
      "metadata": {
        "id": "0cpCZtn1uGAs",
        "colab_type": "text"
      },
      "source": [
        "New Clean Dataset extracted as X_new\n",
        "\n",
        "\n",
        "\n"
      ]
    },
    {
      "cell_type": "code",
      "metadata": {
        "id": "C9F48416tJ1i",
        "colab_type": "code",
        "colab": {}
      },
      "source": [
        "X_new = pd.concat([X2, X3], axis=1)"
      ],
      "execution_count": 384,
      "outputs": []
    },
    {
      "cell_type": "code",
      "metadata": {
        "id": "wnD0UcYytX3I",
        "colab_type": "code",
        "colab": {}
      },
      "source": [
        "#X_new"
      ],
      "execution_count": null,
      "outputs": []
    },
    {
      "cell_type": "code",
      "metadata": {
        "id": "KP2nbRWOLMKS",
        "colab_type": "code",
        "colab": {
          "base_uri": "https://localhost:8080/",
          "height": 34
        },
        "outputId": "82e426dc-98c9-4909-f4f8-793524928122"
      },
      "source": [
        "X3.shape"
      ],
      "execution_count": 386,
      "outputs": [
        {
          "output_type": "execute_result",
          "data": {
            "text/plain": [
              "(50, 10)"
            ]
          },
          "metadata": {
            "tags": []
          },
          "execution_count": 386
        }
      ]
    },
    {
      "cell_type": "code",
      "metadata": {
        "id": "WtazoTzeLMvz",
        "colab_type": "code",
        "colab": {
          "base_uri": "https://localhost:8080/",
          "height": 34
        },
        "outputId": "92ca3ef6-65cb-4cca-a4f8-98eebe5f544b"
      },
      "source": [
        "X2.shape"
      ],
      "execution_count": 387,
      "outputs": [
        {
          "output_type": "execute_result",
          "data": {
            "text/plain": [
              "(50, 2)"
            ]
          },
          "metadata": {
            "tags": []
          },
          "execution_count": 387
        }
      ]
    },
    {
      "cell_type": "code",
      "metadata": {
        "id": "uugWzR1QubZ7",
        "colab_type": "code",
        "colab": {}
      },
      "source": [
        "from sklearn.model_selection import train_test_split\n",
        "X_train, X_test, y_train, y_test=train_test_split(X3,X2, test_size=0.2, random_state =0)"
      ],
      "execution_count": 390,
      "outputs": []
    },
    {
      "cell_type": "code",
      "metadata": {
        "id": "1yaPPQBEveqc",
        "colab_type": "code",
        "colab": {}
      },
      "source": [
        "#y_test"
      ],
      "execution_count": 48,
      "outputs": []
    },
    {
      "cell_type": "code",
      "metadata": {
        "id": "zjoRAhIMJN8m",
        "colab_type": "code",
        "colab": {}
      },
      "source": [
        "X_train = np.asarray(X_train).astype(np.float32)\n",
        "y_train = np.asarray(y_train).astype(np.float32)\n",
        "X_test = np.asarray(X_test).astype(np.float32)\n",
        "y_test= np.asarray(y_test).astype(np.float32)     #np.asarray() looks for .shape() attribute in the model.fit()"
      ],
      "execution_count": 391,
      "outputs": []
    },
    {
      "cell_type": "code",
      "metadata": {
        "id": "jUjjXLHKKII7",
        "colab_type": "code",
        "colab": {}
      },
      "source": [
        "#y_train"
      ],
      "execution_count": 261,
      "outputs": []
    },
    {
      "cell_type": "code",
      "metadata": {
        "id": "8BAQ0Denuex_",
        "colab_type": "code",
        "colab": {}
      },
      "source": [
        "from sklearn.preprocessing import StandardScaler\n",
        "sc=StandardScaler()\n",
        "X_train= sc.fit_transform(X_train)\n",
        "X_test= sc.transform(X_test)\n"
      ],
      "execution_count": 392,
      "outputs": []
    },
    {
      "cell_type": "code",
      "metadata": {
        "id": "hinVPlm0S7ap",
        "colab_type": "code",
        "colab": {
          "base_uri": "https://localhost:8080/",
          "height": 1000
        },
        "outputId": "3f267718-89b7-4b03-eaf7-e58ad9bc05b9"
      },
      "source": [
        "X_train"
      ],
      "execution_count": 394,
      "outputs": [
        {
          "output_type": "execute_result",
          "data": {
            "text/plain": [
              "array([[-0.01715238, -0.85972697,  0.20901991, -0.26252052,  0.08400217,\n",
              "         0.17149858,  1.3242444 ,  0.42008403,  1.5784436 ,  0.69388866],\n",
              "       [-0.01715238, -0.85972697,  0.20901991, -0.26252052, -1.0360267 ,\n",
              "         0.17149858, -0.18057878,  0.42008403, -1.3811381 , -1.4411534 ],\n",
              "       [ 1.3550382 , -0.85972697,  0.9057529 , -0.26252052,  0.45734513,\n",
              "         0.17149858,  1.0232798 ,  0.42008403, -1.1345063 ,  0.69388866],\n",
              "       [ 1.3550382 , -0.85972697,  0.9057529 , -0.26252052,  1.950717  ,\n",
              "         0.17149858, -1.0834726 ,  0.42008403, -1.3811381 , -1.4411534 ],\n",
              "       [-0.01715238,  1.16316   ,  0.20901991,  1.2375968 , -1.0360267 ,\n",
              "         0.17149858,  0.12038586,  0.42008403,  0.34528452,  0.69388866],\n",
              "       [ 0.66894287, -0.85972697, -1.1844462 , -0.26252052,  0.83068806,\n",
              "         0.17149858, -1.3844373 ,  0.42008403,  0.09865273,  0.69388866],\n",
              "       [ 0.66894287, -0.85972697, -1.1844462 , -0.26252052,  0.83068806,\n",
              "         0.17149858, -1.3844373 ,  0.42008403,  0.09865273,  0.69388866],\n",
              "       [-0.01715238, -0.85972697,  0.20901991, -0.26252052, -1.0360267 ,\n",
              "         0.17149858, -0.18057878,  0.42008403, -1.3811381 , -1.4411534 ],\n",
              "       [-0.01715238, -0.85972697,  0.20901991, -0.26252052, -0.2893408 ,\n",
              "         0.17149858,  0.42135048,  0.42008403,  1.08518   ,  0.69388866],\n",
              "       [-2.0754383 ,  1.16316   ,  2.299219  , -0.26252052,  1.577374  ,\n",
              "         0.17149858, -1.6854019 , -2.3804762 ,  1.3318118 , -1.4411534 ],\n",
              "       [-0.01715238,  1.16316   ,  0.20901991,  1.2375968 , -1.0360267 ,\n",
              "         0.17149858,  0.12038586,  0.42008403, -0.1479791 ,  0.69388866],\n",
              "       [ 1.3550382 , -0.85972697,  0.9057529 , -0.26252052,  0.45734513,\n",
              "         0.17149858,  1.0232798 ,  0.42008403,  0.5919164 ,  0.69388866],\n",
              "       [ 1.3550382 , -0.85972697, -0.4877131 , -0.26252052,  1.577374  ,\n",
              "         0.17149858, -1.3844373 ,  0.42008403,  0.8385482 ,  0.69388866],\n",
              "       [-0.01715238,  1.16316   ,  0.20901991,  1.2375968 , -1.0360267 ,\n",
              "         0.17149858,  0.12038586,  0.42008403, -0.1479791 ,  0.69388866],\n",
              "       [-1.3893429 , -0.85972697, -0.4877131 , -0.26252052, -1.0360267 ,\n",
              "         0.17149858,  1.0232798 ,  0.42008403,  0.34528452,  0.69388866],\n",
              "       [-0.01715238, -0.85972697,  0.20901991, -0.26252052,  0.08400217,\n",
              "         0.17149858,  1.9261737 ,  0.42008403, -1.3811381 , -1.4411534 ],\n",
              "       [-0.01715238, -0.85972697,  0.20901991, -0.26252052, -0.2893408 ,\n",
              "         0.17149858,  0.42135048,  0.42008403,  1.08518   ,  0.69388866],\n",
              "       [-0.01715238,  1.16316   ,  0.20901991,  1.2375968 , -1.0360267 ,\n",
              "         0.17149858,  0.12038586,  0.42008403,  0.34528452,  0.69388866],\n",
              "       [-0.01715238,  1.16316   ,  0.20901991,  1.2375968 , -1.0360267 ,\n",
              "         0.17149858,  0.12038586,  0.42008403, -0.3946109 ,  0.69388866],\n",
              "       [ 1.3550382 , -0.85972697,  0.9057529 , -0.26252052,  0.45734513,\n",
              "         0.17149858,  1.0232798 ,  0.42008403, -1.1345063 ,  0.69388866],\n",
              "       [-0.01715238,  1.16316   ,  0.20901991,  1.2375968 , -1.0360267 ,\n",
              "         0.17149858,  0.12038586,  0.42008403, -0.1479791 ,  0.69388866],\n",
              "       [ 0.66894287, -0.85972697, -1.1844462 , -0.26252052,  0.83068806,\n",
              "         0.17149858, -1.3844373 ,  0.42008403,  0.09865273,  0.69388866],\n",
              "       [-0.01715238, -0.85972697,  0.20901991, -0.26252052, -0.2893408 ,\n",
              "         0.17149858,  0.42135048,  0.42008403,  1.5784436 ,  0.69388866],\n",
              "       [-2.0754383 ,  1.16316   , -2.577912  , -3.262755  ,  1.204031  ,\n",
              "        -3.2584732 ,  1.6252091 , -2.3804762 ,  1.3318118 , -1.4411534 ],\n",
              "       [ 0.66894287,  1.16316   , -0.4877131 ,  1.2375968 ,  0.83068806,\n",
              "         1.8864845 , -1.0834726 ,  0.42008403, -0.8878745 ,  0.69388866],\n",
              "       [-0.01715238,  1.16316   , -1.8811792 ,  1.2375968 ,  0.83068806,\n",
              "         1.8864845 , -0.48154342,  0.42008403,  0.09865273,  0.69388866],\n",
              "       [ 0.66894287, -0.85972697, -1.1844462 , -0.26252052, -1.4093697 ,\n",
              "        -3.2584732 ,  1.6252091 , -2.3804762 ,  1.3318118 , -1.4411534 ],\n",
              "       [ 1.3550382 , -0.85972697,  0.9057529 , -0.26252052,  1.950717  ,\n",
              "         0.17149858, -1.0834726 ,  0.42008403, -1.3811381 , -1.4411534 ],\n",
              "       [-0.01715238,  1.16316   ,  0.20901991,  1.2375968 , -1.0360267 ,\n",
              "         0.17149858,  0.12038586,  0.42008403, -0.1479791 ,  0.69388866],\n",
              "       [ 1.3550382 , -0.85972697,  0.9057529 , -0.26252052,  0.45734513,\n",
              "         0.17149858,  1.0232798 ,  0.42008403,  0.5919164 ,  0.69388866],\n",
              "       [-0.01715238, -0.85972697,  0.20901991, -0.26252052, -1.0360267 ,\n",
              "         0.17149858, -0.18057878,  0.42008403, -1.3811381 , -1.4411534 ],\n",
              "       [ 0.66894287,  1.16316   , -0.4877131 , -0.26252052,  0.83068806,\n",
              "         0.17149858, -0.782508  ,  0.42008403, -0.6412427 ,  0.69388866],\n",
              "       [-2.0754383 ,  1.16316   , -0.4877131 , -0.26252052,  0.83068806,\n",
              "         0.17149858,  0.12038586,  0.42008403, -1.1345063 ,  0.69388866],\n",
              "       [-2.0754383 ,  1.16316   , -0.4877131 , -0.26252052,  0.83068806,\n",
              "         0.17149858,  0.12038586,  0.42008403, -1.1345063 ,  0.69388866],\n",
              "       [-2.0754383 ,  1.16316   , -2.577912  , -3.262755  ,  1.204031  ,\n",
              "        -3.2584732 ,  1.6252091 , -2.3804762 ,  1.3318118 , -1.4411534 ],\n",
              "       [-0.01715238, -0.85972697,  0.20901991, -0.26252052, -1.0360267 ,\n",
              "         0.17149858, -0.18057878,  0.42008403, -1.3811381 , -1.4411534 ],\n",
              "       [-0.01715238,  1.16316   ,  0.20901991,  1.2375968 , -1.0360267 ,\n",
              "         0.17149858,  0.12038586,  0.42008403,  0.34528452,  0.69388866],\n",
              "       [-0.01715238,  1.16316   ,  0.20901991,  1.2375968 , -1.0360267 ,\n",
              "         0.17149858,  0.12038586,  0.42008403, -0.3946109 ,  0.69388866],\n",
              "       [-0.7032476 , -0.85972697,  1.6024859 , -0.26252052, -0.6626837 ,\n",
              "         0.17149858, -1.6854019 , -2.3804762 ,  1.3318118 , -1.4411534 ],\n",
              "       [-0.7032476 , -0.85972697,  1.6024859 , -0.26252052, -0.6626837 ,\n",
              "         0.17149858, -1.6854019 , -2.3804762 ,  1.3318118 , -1.4411534 ]],\n",
              "      dtype=float32)"
            ]
          },
          "metadata": {
            "tags": []
          },
          "execution_count": 394
        }
      ]
    },
    {
      "cell_type": "code",
      "metadata": {
        "id": "OsoMY0D21cYJ",
        "colab_type": "code",
        "colab": {}
      },
      "source": [
        "X_train = X_train.reshape(-1,1)\n",
        "X_test = X_test.reshape(-1,1)\n",
        "y_train = y_train.reshape(-1,1)\n",
        "y_test = y_test.reshape(-1,1)"
      ],
      "execution_count": 395,
      "outputs": []
    },
    {
      "cell_type": "code",
      "metadata": {
        "id": "2BFlLQdcumVH",
        "colab_type": "code",
        "colab": {}
      },
      "source": [
        "ann=tf.keras.models.Sequential()\n",
        "ann.add(tf.keras.layers.Dense(units=6,activation='relu'))\n",
        "ann.add(tf.keras.layers.Dense(units=6,activation='relu'))\n",
        "ann.add(tf.keras.layers.Dense(units=1,activation='softmax'))"
      ],
      "execution_count": 396,
      "outputs": []
    },
    {
      "cell_type": "code",
      "metadata": {
        "id": "9WKoMO_euxdx",
        "colab_type": "code",
        "colab": {}
      },
      "source": [
        "ann.compile(optimizer= 'adam', loss= 'sparse_categorical_crossentropy',metrics= ['accuracy'])"
      ],
      "execution_count": 397,
      "outputs": []
    },
    {
      "cell_type": "code",
      "metadata": {
        "id": "3V3bN3dru2FR",
        "colab_type": "code",
        "colab": {
          "base_uri": "https://localhost:8080/",
          "height": 374
        },
        "outputId": "38694fe2-6a73-4bd6-a69f-6276a0861045"
      },
      "source": [
        "ann.fit(X_train,y_train, batch_size= 32, epochs= 10)  "
      ],
      "execution_count": 398,
      "outputs": [
        {
          "output_type": "error",
          "ename": "ValueError",
          "evalue": "ignored",
          "traceback": [
            "\u001b[0;31m---------------------------------------------------------------------------\u001b[0m",
            "\u001b[0;31mValueError\u001b[0m                                Traceback (most recent call last)",
            "\u001b[0;32m<ipython-input-398-59084497a6a2>\u001b[0m in \u001b[0;36m<module>\u001b[0;34m()\u001b[0m\n\u001b[0;32m----> 1\u001b[0;31m \u001b[0mann\u001b[0m\u001b[0;34m.\u001b[0m\u001b[0mfit\u001b[0m\u001b[0;34m(\u001b[0m\u001b[0mX_train\u001b[0m\u001b[0;34m,\u001b[0m\u001b[0my_train\u001b[0m\u001b[0;34m,\u001b[0m \u001b[0mbatch_size\u001b[0m\u001b[0;34m=\u001b[0m \u001b[0;36m32\u001b[0m\u001b[0;34m,\u001b[0m \u001b[0mepochs\u001b[0m\u001b[0;34m=\u001b[0m \u001b[0;36m10\u001b[0m\u001b[0;34m)\u001b[0m\u001b[0;34m\u001b[0m\u001b[0;34m\u001b[0m\u001b[0m\n\u001b[0m",
            "\u001b[0;32m/usr/local/lib/python3.6/dist-packages/tensorflow/python/keras/engine/training.py\u001b[0m in \u001b[0;36m_method_wrapper\u001b[0;34m(self, *args, **kwargs)\u001b[0m\n\u001b[1;32m     64\u001b[0m   \u001b[0;32mdef\u001b[0m \u001b[0m_method_wrapper\u001b[0m\u001b[0;34m(\u001b[0m\u001b[0mself\u001b[0m\u001b[0;34m,\u001b[0m \u001b[0;34m*\u001b[0m\u001b[0margs\u001b[0m\u001b[0;34m,\u001b[0m \u001b[0;34m**\u001b[0m\u001b[0mkwargs\u001b[0m\u001b[0;34m)\u001b[0m\u001b[0;34m:\u001b[0m\u001b[0;34m\u001b[0m\u001b[0;34m\u001b[0m\u001b[0m\n\u001b[1;32m     65\u001b[0m     \u001b[0;32mif\u001b[0m \u001b[0;32mnot\u001b[0m \u001b[0mself\u001b[0m\u001b[0;34m.\u001b[0m\u001b[0m_in_multi_worker_mode\u001b[0m\u001b[0;34m(\u001b[0m\u001b[0;34m)\u001b[0m\u001b[0;34m:\u001b[0m  \u001b[0;31m# pylint: disable=protected-access\u001b[0m\u001b[0;34m\u001b[0m\u001b[0;34m\u001b[0m\u001b[0m\n\u001b[0;32m---> 66\u001b[0;31m       \u001b[0;32mreturn\u001b[0m \u001b[0mmethod\u001b[0m\u001b[0;34m(\u001b[0m\u001b[0mself\u001b[0m\u001b[0;34m,\u001b[0m \u001b[0;34m*\u001b[0m\u001b[0margs\u001b[0m\u001b[0;34m,\u001b[0m \u001b[0;34m**\u001b[0m\u001b[0mkwargs\u001b[0m\u001b[0;34m)\u001b[0m\u001b[0;34m\u001b[0m\u001b[0;34m\u001b[0m\u001b[0m\n\u001b[0m\u001b[1;32m     67\u001b[0m \u001b[0;34m\u001b[0m\u001b[0m\n\u001b[1;32m     68\u001b[0m     \u001b[0;31m# Running inside `run_distribute_coordinator` already.\u001b[0m\u001b[0;34m\u001b[0m\u001b[0;34m\u001b[0m\u001b[0;34m\u001b[0m\u001b[0m\n",
            "\u001b[0;32m/usr/local/lib/python3.6/dist-packages/tensorflow/python/keras/engine/training.py\u001b[0m in \u001b[0;36mfit\u001b[0;34m(self, x, y, batch_size, epochs, verbose, callbacks, validation_split, validation_data, shuffle, class_weight, sample_weight, initial_epoch, steps_per_epoch, validation_steps, validation_batch_size, validation_freq, max_queue_size, workers, use_multiprocessing)\u001b[0m\n\u001b[1;32m    813\u001b[0m           \u001b[0mworkers\u001b[0m\u001b[0;34m=\u001b[0m\u001b[0mworkers\u001b[0m\u001b[0;34m,\u001b[0m\u001b[0;34m\u001b[0m\u001b[0;34m\u001b[0m\u001b[0m\n\u001b[1;32m    814\u001b[0m           \u001b[0muse_multiprocessing\u001b[0m\u001b[0;34m=\u001b[0m\u001b[0muse_multiprocessing\u001b[0m\u001b[0;34m,\u001b[0m\u001b[0;34m\u001b[0m\u001b[0;34m\u001b[0m\u001b[0m\n\u001b[0;32m--> 815\u001b[0;31m           model=self)\n\u001b[0m\u001b[1;32m    816\u001b[0m \u001b[0;34m\u001b[0m\u001b[0m\n\u001b[1;32m    817\u001b[0m       \u001b[0;31m# Container that configures and calls `tf.keras.Callback`s.\u001b[0m\u001b[0;34m\u001b[0m\u001b[0;34m\u001b[0m\u001b[0;34m\u001b[0m\u001b[0m\n",
            "\u001b[0;32m/usr/local/lib/python3.6/dist-packages/tensorflow/python/keras/engine/data_adapter.py\u001b[0m in \u001b[0;36m__init__\u001b[0;34m(self, x, y, sample_weight, batch_size, steps_per_epoch, initial_epoch, epochs, shuffle, class_weight, max_queue_size, workers, use_multiprocessing, model)\u001b[0m\n\u001b[1;32m   1110\u001b[0m         \u001b[0muse_multiprocessing\u001b[0m\u001b[0;34m=\u001b[0m\u001b[0muse_multiprocessing\u001b[0m\u001b[0;34m,\u001b[0m\u001b[0;34m\u001b[0m\u001b[0;34m\u001b[0m\u001b[0m\n\u001b[1;32m   1111\u001b[0m         \u001b[0mdistribution_strategy\u001b[0m\u001b[0;34m=\u001b[0m\u001b[0mds_context\u001b[0m\u001b[0;34m.\u001b[0m\u001b[0mget_strategy\u001b[0m\u001b[0;34m(\u001b[0m\u001b[0;34m)\u001b[0m\u001b[0;34m,\u001b[0m\u001b[0;34m\u001b[0m\u001b[0;34m\u001b[0m\u001b[0m\n\u001b[0;32m-> 1112\u001b[0;31m         model=model)\n\u001b[0m\u001b[1;32m   1113\u001b[0m \u001b[0;34m\u001b[0m\u001b[0m\n\u001b[1;32m   1114\u001b[0m     \u001b[0mstrategy\u001b[0m \u001b[0;34m=\u001b[0m \u001b[0mds_context\u001b[0m\u001b[0;34m.\u001b[0m\u001b[0mget_strategy\u001b[0m\u001b[0;34m(\u001b[0m\u001b[0;34m)\u001b[0m\u001b[0;34m\u001b[0m\u001b[0;34m\u001b[0m\u001b[0m\n",
            "\u001b[0;32m/usr/local/lib/python3.6/dist-packages/tensorflow/python/keras/engine/data_adapter.py\u001b[0m in \u001b[0;36m__init__\u001b[0;34m(self, x, y, sample_weights, sample_weight_modes, batch_size, epochs, steps, shuffle, **kwargs)\u001b[0m\n\u001b[1;32m    280\u001b[0m             label, \", \".join(str(i.shape[0]) for i in nest.flatten(data)))\n\u001b[1;32m    281\u001b[0m       \u001b[0mmsg\u001b[0m \u001b[0;34m+=\u001b[0m \u001b[0;34m\"Please provide data which shares the same first dimension.\"\u001b[0m\u001b[0;34m\u001b[0m\u001b[0;34m\u001b[0m\u001b[0m\n\u001b[0;32m--> 282\u001b[0;31m       \u001b[0;32mraise\u001b[0m \u001b[0mValueError\u001b[0m\u001b[0;34m(\u001b[0m\u001b[0mmsg\u001b[0m\u001b[0;34m)\u001b[0m\u001b[0;34m\u001b[0m\u001b[0;34m\u001b[0m\u001b[0m\n\u001b[0m\u001b[1;32m    283\u001b[0m     \u001b[0mnum_samples\u001b[0m \u001b[0;34m=\u001b[0m \u001b[0mnum_samples\u001b[0m\u001b[0;34m.\u001b[0m\u001b[0mpop\u001b[0m\u001b[0;34m(\u001b[0m\u001b[0;34m)\u001b[0m\u001b[0;34m\u001b[0m\u001b[0;34m\u001b[0m\u001b[0m\n\u001b[1;32m    284\u001b[0m \u001b[0;34m\u001b[0m\u001b[0m\n",
            "\u001b[0;31mValueError\u001b[0m: Data cardinality is ambiguous:\n  x sizes: 400\n  y sizes: 80\nPlease provide data which shares the same first dimension."
          ]
        }
      ]
    },
    {
      "cell_type": "code",
      "metadata": {
        "id": "BYCwJNvlIpJu",
        "colab_type": "code",
        "colab": {
          "base_uri": "https://localhost:8080/",
          "height": 34
        },
        "outputId": "55e0c603-ffe3-4d43-a4ce-7b1f8d233978"
      },
      "source": [
        "X_train.shape"
      ],
      "execution_count": 209,
      "outputs": [
        {
          "output_type": "execute_result",
          "data": {
            "text/plain": [
              "(250, 1)"
            ]
          },
          "metadata": {
            "tags": []
          },
          "execution_count": 209
        }
      ]
    },
    {
      "cell_type": "code",
      "metadata": {
        "id": "7gw496Tx_SmJ",
        "colab_type": "code",
        "colab": {
          "base_uri": "https://localhost:8080/",
          "height": 34
        },
        "outputId": "ce9c4727-ac65-4f8e-9e9a-4eb4234a87be"
      },
      "source": [
        "X_test.shape"
      ],
      "execution_count": 210,
      "outputs": [
        {
          "output_type": "execute_result",
          "data": {
            "text/plain": [
              "(250, 1)"
            ]
          },
          "metadata": {
            "tags": []
          },
          "execution_count": 210
        }
      ]
    },
    {
      "cell_type": "code",
      "metadata": {
        "id": "W-9O-m5sIp1o",
        "colab_type": "code",
        "colab": {
          "base_uri": "https://localhost:8080/",
          "height": 34
        },
        "outputId": "f32d5456-7080-400d-e979-0b407dd7a65f"
      },
      "source": [
        "y_train.shape"
      ],
      "execution_count": 211,
      "outputs": [
        {
          "output_type": "execute_result",
          "data": {
            "text/plain": [
              "(50, 1)"
            ]
          },
          "metadata": {
            "tags": []
          },
          "execution_count": 211
        }
      ]
    },
    {
      "cell_type": "code",
      "metadata": {
        "id": "l548E7hS_WTD",
        "colab_type": "code",
        "colab": {
          "base_uri": "https://localhost:8080/",
          "height": 34
        },
        "outputId": "9c84b8ce-76a7-4aaf-ba90-666bc426f336"
      },
      "source": [
        "y_test.shape"
      ],
      "execution_count": 212,
      "outputs": [
        {
          "output_type": "execute_result",
          "data": {
            "text/plain": [
              "(50, 1)"
            ]
          },
          "metadata": {
            "tags": []
          },
          "execution_count": 212
        }
      ]
    }
  ]
}
