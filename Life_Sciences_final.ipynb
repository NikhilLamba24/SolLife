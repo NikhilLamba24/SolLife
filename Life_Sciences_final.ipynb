{
  "nbformat": 4,
  "nbformat_minor": 0,
  "metadata": {
    "colab": {
      "name": "Solera Life Sciences.ipynb",
      "provenance": [],
      "collapsed_sections": []
    },
    "kernelspec": {
      "name": "python3",
      "display_name": "Python 3"
    }
  },
  "cells": [
    {
      "cell_type": "code",
      "metadata": {
        "id": "vlIkpDh5eZyE",
        "colab_type": "code",
        "colab": {
          "base_uri": "https://localhost:8080/",
          "height": 34
        },
        "outputId": "0e7a2395-05c1-4dc8-e317-3a525d003d15"
      },
      "source": [
        "import numpy as np\n",
        "import pandas as pd\n",
        "import re\n",
        "import string\n",
        "import requests\n",
        "from bs4 import BeautifulSoup\n",
        "import pickle\n",
        "import tensorflow as tf\n",
        "import keras\n",
        "from keras import Input\n",
        "import sklearn\n",
        "import collections"
      ],
      "execution_count": 1,
      "outputs": [
        {
          "output_type": "stream",
          "text": [
            "Using TensorFlow backend.\n"
          ],
          "name": "stderr"
        }
      ]
    },
    {
      "cell_type": "code",
      "metadata": {
        "id": "GvqStJj2ebIf",
        "colab_type": "code",
        "colab": {}
      },
      "source": [
        "from tensorflow import keras"
      ],
      "execution_count": 2,
      "outputs": []
    },
    {
      "cell_type": "code",
      "metadata": {
        "id": "OHTTHf-sedKt",
        "colab_type": "code",
        "colab": {}
      },
      "source": [
        "dataset=pd.read_csv('/content/drive/My Drive/Solera Life Sciences/bloating_diarrhea_9(b).csv')"
      ],
      "execution_count": 3,
      "outputs": []
    },
    {
      "cell_type": "markdown",
      "metadata": {
        "id": "z28oGl6ivESt",
        "colab_type": "text"
      },
      "source": [
        "Taken values of symptoms to X and Conditions to X1"
      ]
    },
    {
      "cell_type": "code",
      "metadata": {
        "id": "Uv612LFcefUS",
        "colab_type": "code",
        "colab": {}
      },
      "source": [
        "X=dataset.iloc[:,0]\n",
        "X1=dataset.iloc[:,1]"
      ],
      "execution_count": 4,
      "outputs": []
    },
    {
      "cell_type": "markdown",
      "metadata": {
        "id": "SjzCvOk1u6oh",
        "colab_type": "text"
      },
      "source": [
        "Splitting data on the basis of \" ' \" and renaming the columns with Alphabets for easy remembering."
      ]
    },
    {
      "cell_type": "code",
      "metadata": {
        "id": "cqMwx0e2e4zJ",
        "colab_type": "code",
        "colab": {}
      },
      "source": [
        "X2=X.str.split(\"'\",n=2,expand=True)\n",
        "\"\"\"for col_name in X2.columns: \n",
        "    print(col_name)\"\"\"\n",
        "#X2.columns[0]\n",
        "X2=X2.rename(columns={0:\"A\",1:\"B\",2:\"C\"})"
      ],
      "execution_count": 5,
      "outputs": []
    },
    {
      "cell_type": "code",
      "metadata": {
        "id": "VEV1ddsOe7Xf",
        "colab_type": "code",
        "colab": {
          "base_uri": "https://localhost:8080/",
          "height": 419
        },
        "outputId": "e1924d6a-901f-4fe8-dea2-042b4ee714fd"
      },
      "source": [
        "X3=X1.str.split(\"'\",n=10,expand=True)\n",
        "X3=X3.rename(columns={0:\"D\",1:\"E\",2:\"F\",3:\"G\",4:\"H\",5:\"I\",6:\"J\",7:\"K\",8:\"L\",9:\"M\",10:\"N\"})\n",
        "X3"
      ],
      "execution_count": 6,
      "outputs": [
        {
          "output_type": "execute_result",
          "data": {
            "text/html": [
              "<div>\n",
              "<style scoped>\n",
              "    .dataframe tbody tr th:only-of-type {\n",
              "        vertical-align: middle;\n",
              "    }\n",
              "\n",
              "    .dataframe tbody tr th {\n",
              "        vertical-align: top;\n",
              "    }\n",
              "\n",
              "    .dataframe thead th {\n",
              "        text-align: right;\n",
              "    }\n",
              "</style>\n",
              "<table border=\"1\" class=\"dataframe\">\n",
              "  <thead>\n",
              "    <tr style=\"text-align: right;\">\n",
              "      <th></th>\n",
              "      <th>D</th>\n",
              "      <th>E</th>\n",
              "      <th>F</th>\n",
              "      <th>G</th>\n",
              "      <th>H</th>\n",
              "      <th>I</th>\n",
              "      <th>J</th>\n",
              "      <th>K</th>\n",
              "      <th>L</th>\n",
              "      <th>M</th>\n",
              "      <th>N</th>\n",
              "    </tr>\n",
              "  </thead>\n",
              "  <tbody>\n",
              "    <tr>\n",
              "      <th>0</th>\n",
              "      <td>IrritableBowelSyndrome</td>\n",
              "      <td>2</td>\n",
              "      <td>LactoseIntolerance</td>\n",
              "      <td>2</td>\n",
              "      <td>CeliacDisease</td>\n",
              "      <td>1</td>\n",
              "      <td>Gas</td>\n",
              "      <td>1</td>\n",
              "      <td>Fibromyalgia</td>\n",
              "      <td>1</td>\n",
              "      <td></td>\n",
              "    </tr>\n",
              "    <tr>\n",
              "      <th>1</th>\n",
              "      <td>UlcerativeColitis</td>\n",
              "      <td>2</td>\n",
              "      <td>IrritableBowelSyndrome</td>\n",
              "      <td>2</td>\n",
              "      <td>LactoseIntolerance</td>\n",
              "      <td>2</td>\n",
              "      <td>CrohnsDisease</td>\n",
              "      <td>1</td>\n",
              "      <td>ColonCancer</td>\n",
              "      <td>1</td>\n",
              "      <td></td>\n",
              "    </tr>\n",
              "    <tr>\n",
              "      <th>2</th>\n",
              "      <td>IrritableBowelSyndrome</td>\n",
              "      <td>2</td>\n",
              "      <td>CeliacDisease</td>\n",
              "      <td>2</td>\n",
              "      <td>LactoseIntolerance</td>\n",
              "      <td>2</td>\n",
              "      <td>DumpingSyndrome</td>\n",
              "      <td>1</td>\n",
              "      <td>Gas</td>\n",
              "      <td>1</td>\n",
              "      <td></td>\n",
              "    </tr>\n",
              "    <tr>\n",
              "      <th>3</th>\n",
              "      <td>IrritableBowelSyndrome</td>\n",
              "      <td>2</td>\n",
              "      <td>LactoseIntolerance</td>\n",
              "      <td>2</td>\n",
              "      <td>CeliacDisease</td>\n",
              "      <td>1</td>\n",
              "      <td>Gas</td>\n",
              "      <td>1</td>\n",
              "      <td>Gastritis</td>\n",
              "      <td>1</td>\n",
              "      <td></td>\n",
              "    </tr>\n",
              "    <tr>\n",
              "      <th>4</th>\n",
              "      <td>UlcerativeColitis</td>\n",
              "      <td>1</td>\n",
              "      <td>CrohnsDisease</td>\n",
              "      <td>1</td>\n",
              "      <td>LactoseIntolerance</td>\n",
              "      <td>1</td>\n",
              "      <td>CeliacDisease</td>\n",
              "      <td>1</td>\n",
              "      <td>Gas</td>\n",
              "      <td>1</td>\n",
              "      <td></td>\n",
              "    </tr>\n",
              "    <tr>\n",
              "      <th>...</th>\n",
              "      <td>...</td>\n",
              "      <td>...</td>\n",
              "      <td>...</td>\n",
              "      <td>...</td>\n",
              "      <td>...</td>\n",
              "      <td>...</td>\n",
              "      <td>...</td>\n",
              "      <td>...</td>\n",
              "      <td>...</td>\n",
              "      <td>...</td>\n",
              "      <td>...</td>\n",
              "    </tr>\n",
              "    <tr>\n",
              "      <th>605</th>\n",
              "      <td>Food Allergy</td>\n",
              "      <td>1</td>\n",
              "      <td>Strep Throat</td>\n",
              "      <td>1</td>\n",
              "      <td>Tonsillitis</td>\n",
              "      <td>1</td>\n",
              "      <td>Peritonsillar Abscess</td>\n",
              "      <td>1</td>\n",
              "      <td></td>\n",
              "      <td>None</td>\n",
              "      <td>None</td>\n",
              "    </tr>\n",
              "    <tr>\n",
              "      <th>606</th>\n",
              "      <td>Food Allergy</td>\n",
              "      <td>1</td>\n",
              "      <td>Strep Throat</td>\n",
              "      <td>1</td>\n",
              "      <td>Tonsillitis</td>\n",
              "      <td>1</td>\n",
              "      <td>Peritonsillar Abscess</td>\n",
              "      <td>1</td>\n",
              "      <td></td>\n",
              "      <td>None</td>\n",
              "      <td>None</td>\n",
              "    </tr>\n",
              "    <tr>\n",
              "      <th>607</th>\n",
              "      <td>Subacute Bacterial Endocarditis</td>\n",
              "      <td>2</td>\n",
              "      <td>Thrombocytopenia</td>\n",
              "      <td>1</td>\n",
              "      <td>Mononucleosis</td>\n",
              "      <td>1</td>\n",
              "      <td></td>\n",
              "      <td>None</td>\n",
              "      <td>None</td>\n",
              "      <td>None</td>\n",
              "      <td>None</td>\n",
              "    </tr>\n",
              "    <tr>\n",
              "      <th>608</th>\n",
              "      <td>Peritonsillar Abscess</td>\n",
              "      <td>1</td>\n",
              "      <td></td>\n",
              "      <td>None</td>\n",
              "      <td>None</td>\n",
              "      <td>None</td>\n",
              "      <td>None</td>\n",
              "      <td>None</td>\n",
              "      <td>None</td>\n",
              "      <td>None</td>\n",
              "      <td>None</td>\n",
              "    </tr>\n",
              "    <tr>\n",
              "      <th>609</th>\n",
              "      <td>Hand foot mouth Disease</td>\n",
              "      <td>1</td>\n",
              "      <td></td>\n",
              "      <td>None</td>\n",
              "      <td>None</td>\n",
              "      <td>None</td>\n",
              "      <td>None</td>\n",
              "      <td>None</td>\n",
              "      <td>None</td>\n",
              "      <td>None</td>\n",
              "      <td>None</td>\n",
              "    </tr>\n",
              "  </tbody>\n",
              "</table>\n",
              "<p>610 rows × 11 columns</p>\n",
              "</div>"
            ],
            "text/plain": [
              "                                   D  E  ...     M     N\n",
              "0             IrritableBowelSyndrome  2  ...     1      \n",
              "1                  UlcerativeColitis  2  ...     1      \n",
              "2             IrritableBowelSyndrome  2  ...     1      \n",
              "3             IrritableBowelSyndrome  2  ...     1      \n",
              "4                  UlcerativeColitis  1  ...     1      \n",
              "..                               ... ..  ...   ...   ...\n",
              "605                     Food Allergy  1  ...  None  None\n",
              "606                     Food Allergy  1  ...  None  None\n",
              "607  Subacute Bacterial Endocarditis  2  ...  None  None\n",
              "608            Peritonsillar Abscess  1  ...  None  None\n",
              "609          Hand foot mouth Disease  1  ...  None  None\n",
              "\n",
              "[610 rows x 11 columns]"
            ]
          },
          "metadata": {
            "tags": []
          },
          "execution_count": 6
        }
      ]
    },
    {
      "cell_type": "markdown",
      "metadata": {
        "id": "QT8ujC5iuOl8",
        "colab_type": "text"
      },
      "source": [
        "Filling the blank spaces with the string\"Notpresent\" in columns 2,4,6,8\n",
        "\n",
        "---\n",
        "\n"
      ]
    },
    {
      "cell_type": "code",
      "metadata": {
        "id": "iGLuDzGPe_EG",
        "colab_type": "code",
        "colab": {}
      },
      "source": [
        "X3.iloc[:,2].fillna(value='Notpresent', inplace=True)\n",
        "X3.iloc[:,4].fillna(value='Notpresent', inplace=True)\n",
        "X3.iloc[:,6].fillna(value='Notpresent', inplace=True)\n",
        "X3.iloc[:,8].fillna(value='Notpresent', inplace=True)"
      ],
      "execution_count": 7,
      "outputs": []
    },
    {
      "cell_type": "markdown",
      "metadata": {
        "id": "RkT1ke02ubYL",
        "colab_type": "text"
      },
      "source": [
        "Filling the blanks with -1"
      ]
    },
    {
      "cell_type": "code",
      "metadata": {
        "id": "gdQmz59CfBG7",
        "colab_type": "code",
        "colab": {}
      },
      "source": [
        "X3.iloc[:,:].fillna(value=-1, inplace=True)\n",
        "X3.iloc[:,:]=X3.iloc[:,:].replace('',\"-1\")"
      ],
      "execution_count": 8,
      "outputs": []
    },
    {
      "cell_type": "markdown",
      "metadata": {
        "id": "YQCCs_E2uCi5",
        "colab_type": "text"
      },
      "source": [
        "Process started of taking the unique values of Conditions of a disease as per symptom from data"
      ]
    },
    {
      "cell_type": "code",
      "metadata": {
        "id": "0ex8wKjIkl4y",
        "colab_type": "code",
        "colab": {
          "base_uri": "https://localhost:8080/",
          "height": 34
        },
        "outputId": "df7831a0-7cd4-48e9-f820-ed32991d8b26"
      },
      "source": [
        "X3D=X3.D.unique()\n",
        "X3F=X3.F.unique()\n",
        "X3H=X3.H.unique()\n",
        "X3J=X3.J.unique()\n",
        "X3L=X3.L.unique()\n",
        "X3new= np.concatenate((X3D,X3F,X3H,X3J,X3L),axis=0)\n",
        "len(X3new)"
      ],
      "execution_count": 9,
      "outputs": [
        {
          "output_type": "execute_result",
          "data": {
            "text/plain": [
              "242"
            ]
          },
          "metadata": {
            "tags": []
          },
          "execution_count": 9
        }
      ]
    },
    {
      "cell_type": "code",
      "metadata": {
        "id": "DPzLOuWI55-L",
        "colab_type": "code",
        "colab": {
          "base_uri": "https://localhost:8080/",
          "height": 34
        },
        "outputId": "7883bd80-9ac3-478e-e27d-27527c44909f"
      },
      "source": [
        "X3unique=np.unique(X3new)\n",
        "X3unique.shape"
      ],
      "execution_count": 10,
      "outputs": [
        {
          "output_type": "execute_result",
          "data": {
            "text/plain": [
              "(104,)"
            ]
          },
          "metadata": {
            "tags": []
          },
          "execution_count": 10
        }
      ]
    },
    {
      "cell_type": "code",
      "metadata": {
        "id": "P5__YtJkmHqT",
        "colab_type": "code",
        "colab": {
          "base_uri": "https://localhost:8080/",
          "height": 255
        },
        "outputId": "a8114443-5cb0-42ba-c00e-90bd06e075a0"
      },
      "source": [
        "dataframe=pd.DataFrame(X3unique) \n",
        "print (dataframe)"
      ],
      "execution_count": 11,
      "outputs": [
        {
          "output_type": "stream",
          "text": [
            "                        0\n",
            "0    , ,Crohns Disease,, \n",
            "1                      -1\n",
            "2        AIDSCDCHIVStage3\n",
            "3                 Abscess\n",
            "4     Acute Cholecystitis\n",
            "..                    ...\n",
            "99      UlcerativeColitis\n",
            "100      Uterine Fibroids\n",
            "101       UterineFibroids\n",
            "102       Viral Pneumonia\n",
            "103  ViralGastroenteritis\n",
            "\n",
            "[104 rows x 1 columns]\n"
          ],
          "name": "stdout"
        }
      ]
    },
    {
      "cell_type": "code",
      "metadata": {
        "id": "ZOsXgepLzVRH",
        "colab_type": "code",
        "colab": {}
      },
      "source": [
        "dataframedict= dataframe.to_dict()"
      ],
      "execution_count": 12,
      "outputs": []
    },
    {
      "cell_type": "code",
      "metadata": {
        "id": "UgCTNss_zhJu",
        "colab_type": "code",
        "colab": {}
      },
      "source": [
        "dataframedict0=dataframedict[0]"
      ],
      "execution_count": 13,
      "outputs": []
    },
    {
      "cell_type": "markdown",
      "metadata": {
        "id": "2C2KypGXt0y1",
        "colab_type": "text"
      },
      "source": [
        "Unique values are taken in a dictionary format."
      ]
    },
    {
      "cell_type": "code",
      "metadata": {
        "id": "Sph3GHkF3n_F",
        "colab_type": "code",
        "colab": {
          "base_uri": "https://localhost:8080/",
          "height": 1000
        },
        "outputId": "b181f3c4-d0f6-450c-8d73-537e53b1d6e4"
      },
      "source": [
        "dataframedict0"
      ],
      "execution_count": 14,
      "outputs": [
        {
          "output_type": "execute_result",
          "data": {
            "text/plain": [
              "{0: ', ,Crohns Disease,, ',\n",
              " 1: '-1',\n",
              " 2: 'AIDSCDCHIVStage3',\n",
              " 3: 'Abscess',\n",
              " 4: 'Acute Cholecystitis',\n",
              " 5: 'Acute Necrotizing Pancreatitis',\n",
              " 6: 'Acute Sinusitis',\n",
              " 7: 'Adenoidal Hypertrophy',\n",
              " 8: 'Adenovirus Infection',\n",
              " 9: 'Adult Still Disease',\n",
              " 10: 'Amebiasis',\n",
              " 11: 'Ankylosing Spondylitis',\n",
              " 12: 'Aortic Stenosis',\n",
              " 13: 'Appendicitis',\n",
              " 14: 'Bacterial Pneumonia',\n",
              " 15: 'Bells Palsy',\n",
              " 16: 'Benign Paroxysmal Positional Vertigo BPPV',\n",
              " 17: 'Botulinum Poisoning',\n",
              " 18: 'Brain Aneurysm',\n",
              " 19: 'Brainstem Glioma',\n",
              " 20: 'Celiac Disease',\n",
              " 21: 'CeliacDisease',\n",
              " 22: 'Cerebellar Hemorrhage',\n",
              " 23: 'Cervicitis',\n",
              " 24: 'Chronic Sinusitis',\n",
              " 25: 'Cirrhosis liver',\n",
              " 26: 'Cluster Headache',\n",
              " 27: 'Cold Sores',\n",
              " 28: 'ColonCancer',\n",
              " 29: 'Common Cold',\n",
              " 30: 'Coronavirus',\n",
              " 31: 'Crohns Disease',\n",
              " 32: 'CrohnsDisease',\n",
              " 33: 'Diabetic Neuropathy',\n",
              " 34: 'Diverticulosis',\n",
              " 35: 'Drug Allergy',\n",
              " 36: 'Drug Overdose',\n",
              " 37: 'DumpingSyndrome',\n",
              " 38: 'Endogenous Depression',\n",
              " 39: 'Esophageal Cancer',\n",
              " 40: 'Eye Allergies',\n",
              " 41: 'Familial Mediterranean Fever',\n",
              " 42: 'Fibromyalgia',\n",
              " 43: 'Food Allergy',\n",
              " 44: 'FoodAllergy',\n",
              " 45: 'Gas',\n",
              " 46: 'Gastritis',\n",
              " 47: 'Generalized Anxiety Disorder',\n",
              " 48: 'Hand foot mouth Disease',\n",
              " 49: 'Hay Fever',\n",
              " 50: 'Heartburn or gerd',\n",
              " 51: 'Heartburn/gerd',\n",
              " 52: 'Heat Stroke hyperthermia',\n",
              " 53: 'Hodgkins Disease',\n",
              " 54: 'Influenza flu Adults',\n",
              " 55: 'InfluenzaAdults',\n",
              " 56: 'Intestinal Obstruction',\n",
              " 57: 'Irritable Bowel Syndrome',\n",
              " 58: 'IrritableBowelSyndrome',\n",
              " 59: 'Labyrinthitis',\n",
              " 60: 'Lactose Intolerance',\n",
              " 61: 'LactoseIntolerance',\n",
              " 62: 'Laryngitis',\n",
              " 63: 'Lung Cancer non Small Cell',\n",
              " 64: 'Lupus systemic Lupus Erythematosus',\n",
              " 65: 'Lyme Disease',\n",
              " 66: 'Malignant Hyperthermia',\n",
              " 67: 'Medication Overuse Headache',\n",
              " 68: 'Meniere Disease',\n",
              " 69: 'Migraine Headache adult',\n",
              " 70: 'Mitral Regurgitation',\n",
              " 71: 'Mononucleosis',\n",
              " 72: 'Multiple Sclerosis',\n",
              " 73: 'NorovirusesNorwalk-likeViruses',\n",
              " 74: 'Notpresent',\n",
              " 75: 'Ovarian Cysts',\n",
              " 76: 'OvarianCysts',\n",
              " 77: 'Peptic Ulcer',\n",
              " 78: 'Peritonsillar Abscess',\n",
              " 79: 'Pneumococcal Meningitis',\n",
              " 80: 'Poisoning',\n",
              " 81: 'Premenstrual Syndrome PMS',\n",
              " 82: 'Prolapsed Uterus',\n",
              " 83: 'Rheumatoid Arthritis',\n",
              " 84: 'Sarcoidosis',\n",
              " 85: 'Septicemia',\n",
              " 86: 'Shingles herpes Zoster',\n",
              " 87: 'Sleep Apnea',\n",
              " 88: 'Somatic Symptom Disorder',\n",
              " 89: 'Strep Throat',\n",
              " 90: 'Stroke',\n",
              " 91: 'Subacute Bacterial Endocarditis',\n",
              " 92: 'Subarachnoid Hemorrhage',\n",
              " 93: 'Tension Headache',\n",
              " 94: 'Throat Cancer',\n",
              " 95: 'Thrombocytopenia',\n",
              " 96: 'Tonsillitis',\n",
              " 97: 'Trachea Injury',\n",
              " 98: 'Ulcerative Colitis',\n",
              " 99: 'UlcerativeColitis',\n",
              " 100: 'Uterine Fibroids',\n",
              " 101: 'UterineFibroids',\n",
              " 102: 'Viral Pneumonia',\n",
              " 103: 'ViralGastroenteritis'}"
            ]
          },
          "metadata": {
            "tags": []
          },
          "execution_count": 14
        }
      ]
    },
    {
      "cell_type": "code",
      "metadata": {
        "id": "Hh3rumJAfK7h",
        "colab_type": "code",
        "colab": {}
      },
      "source": [
        "X31=X3['D'].to_dict()\n",
        "X32=X3['F'].to_dict()\n",
        "X33=X3['H'].to_dict()\n",
        "X34=X3['J'].to_dict()\n",
        "X35=X3['L'].to_dict()"
      ],
      "execution_count": 15,
      "outputs": []
    },
    {
      "cell_type": "code",
      "metadata": {
        "id": "zIleR8h7ia1n",
        "colab_type": "code",
        "colab": {
          "base_uri": "https://localhost:8080/",
          "height": 34
        },
        "outputId": "e4537785-364c-41a8-d6e1-bba6a9827130"
      },
      "source": [
        "X3D=X3.D.unique()\n",
        "len(X3D)"
      ],
      "execution_count": 16,
      "outputs": [
        {
          "output_type": "execute_result",
          "data": {
            "text/plain": [
              "46"
            ]
          },
          "metadata": {
            "tags": []
          },
          "execution_count": 16
        }
      ]
    },
    {
      "cell_type": "code",
      "metadata": {
        "id": "V87XQ3tgfgLJ",
        "colab_type": "code",
        "colab": {}
      },
      "source": [
        "#X31 = {key:value for value, key in X31.items()}\n",
        "#X31"
      ],
      "execution_count": null,
      "outputs": []
    },
    {
      "cell_type": "code",
      "metadata": {
        "id": "P2kZPA7nfvk2",
        "colab_type": "code",
        "colab": {}
      },
      "source": [
        "X31list=list(X31.values())"
      ],
      "execution_count": 17,
      "outputs": []
    },
    {
      "cell_type": "code",
      "metadata": {
        "id": "fFgREzqdyVl9",
        "colab_type": "code",
        "colab": {}
      },
      "source": [
        "l1=[]\n",
        "for (key,value) in X31.items():\n",
        "  for (key1,value1) in dataframedict0.items():\n",
        "    if value==value1:\n",
        "      key=key1\n",
        "      l1.append(key)"
      ],
      "execution_count": 18,
      "outputs": []
    },
    {
      "cell_type": "code",
      "metadata": {
        "id": "BgFcFgv3iFBj",
        "colab_type": "code",
        "colab": {}
      },
      "source": [
        "l2=[]\n",
        "for (key,value) in X32.items():\n",
        "  for (key1,value1) in dataframedict0.items():\n",
        "    if value==value1:\n",
        "      key=key1\n",
        "      l2.append(key)"
      ],
      "execution_count": 19,
      "outputs": []
    },
    {
      "cell_type": "code",
      "metadata": {
        "id": "AlnaGYlNi4vV",
        "colab_type": "code",
        "colab": {}
      },
      "source": [
        "l3=[]\n",
        "for (key,value) in X33.items():\n",
        "  for (key1,value1) in dataframedict0.items():\n",
        "    if value==value1:\n",
        "      key=key1\n",
        "      l3.append(key)"
      ],
      "execution_count": 20,
      "outputs": []
    },
    {
      "cell_type": "code",
      "metadata": {
        "id": "U3DaVkMWi5VF",
        "colab_type": "code",
        "colab": {}
      },
      "source": [
        "l4=[]\n",
        "for (key,value) in X34.items():\n",
        "  for (key1,value1) in dataframedict0.items():\n",
        "    if value==value1:\n",
        "      key=key1\n",
        "      l4.append(key)"
      ],
      "execution_count": 21,
      "outputs": []
    },
    {
      "cell_type": "code",
      "metadata": {
        "id": "F3OqnJ98jL7Y",
        "colab_type": "code",
        "colab": {}
      },
      "source": [
        "l5=[]\n",
        "for (key,value) in X35.items():\n",
        "  for (key1,value1) in dataframedict0.items():\n",
        "    if value==value1:\n",
        "      key=key1\n",
        "      l5.append(key)"
      ],
      "execution_count": 22,
      "outputs": []
    },
    {
      "cell_type": "code",
      "metadata": {
        "id": "HyLmjyiIElLN",
        "colab_type": "code",
        "colab": {
          "base_uri": "https://localhost:8080/",
          "height": 1000
        },
        "outputId": "b14e6a2c-30bf-4349-c488-9572cee3f197"
      },
      "source": [
        "l1"
      ],
      "execution_count": 23,
      "outputs": [
        {
          "output_type": "execute_result",
          "data": {
            "text/plain": [
              "[58,\n",
              " 99,\n",
              " 58,\n",
              " 58,\n",
              " 99,\n",
              " 58,\n",
              " 58,\n",
              " 99,\n",
              " 58,\n",
              " 2,\n",
              " 58,\n",
              " 99,\n",
              " 58,\n",
              " 58,\n",
              " 99,\n",
              " 58,\n",
              " 58,\n",
              " 99,\n",
              " 58,\n",
              " 2,\n",
              " 58,\n",
              " 99,\n",
              " 101,\n",
              " 101,\n",
              " 101,\n",
              " 101,\n",
              " 101,\n",
              " 101,\n",
              " 101,\n",
              " 2,\n",
              " 101,\n",
              " 99,\n",
              " 101,\n",
              " 58,\n",
              " 101,\n",
              " 58,\n",
              " 58,\n",
              " 99,\n",
              " 101,\n",
              " 2,\n",
              " 58,\n",
              " 99,\n",
              " 37,\n",
              " 58,\n",
              " 46,\n",
              " 58,\n",
              " 58,\n",
              " 46,\n",
              " 58,\n",
              " 2,\n",
              " 57,\n",
              " 57,\n",
              " 57,\n",
              " 57,\n",
              " 57,\n",
              " 57,\n",
              " 100,\n",
              " 57,\n",
              " 47,\n",
              " 57,\n",
              " 57,\n",
              " 16,\n",
              " 57,\n",
              " 57,\n",
              " 16,\n",
              " 57,\n",
              " 57,\n",
              " 16,\n",
              " 100,\n",
              " 57,\n",
              " 16,\n",
              " 47,\n",
              " 47,\n",
              " 16,\n",
              " 57,\n",
              " 53,\n",
              " 41,\n",
              " 40,\n",
              " 27,\n",
              " 57,\n",
              " 14,\n",
              " 31,\n",
              " 57,\n",
              " 52,\n",
              " 57,\n",
              " 41,\n",
              " 14,\n",
              " 52,\n",
              " 57,\n",
              " 53,\n",
              " 53,\n",
              " 14,\n",
              " 57,\n",
              " 53,\n",
              " 41,\n",
              " 40,\n",
              " 27,\n",
              " 57,\n",
              " 14,\n",
              " 31,\n",
              " 57,\n",
              " 52,\n",
              " 57,\n",
              " 41,\n",
              " 14,\n",
              " 52,\n",
              " 57,\n",
              " 53,\n",
              " 53,\n",
              " 14,\n",
              " 100,\n",
              " 53,\n",
              " 41,\n",
              " 40,\n",
              " 27,\n",
              " 100,\n",
              " 100,\n",
              " 35,\n",
              " 14,\n",
              " 52,\n",
              " 100,\n",
              " 41,\n",
              " 100,\n",
              " 52,\n",
              " 14,\n",
              " 53,\n",
              " 53,\n",
              " 14,\n",
              " 100,\n",
              " 53,\n",
              " 41,\n",
              " 40,\n",
              " 27,\n",
              " 100,\n",
              " 100,\n",
              " 100,\n",
              " 14,\n",
              " 52,\n",
              " 100,\n",
              " 41,\n",
              " 14,\n",
              " 52,\n",
              " 14,\n",
              " 53,\n",
              " 53,\n",
              " 14,\n",
              " 14,\n",
              " 53,\n",
              " 41,\n",
              " 40,\n",
              " 27,\n",
              " 35,\n",
              " 14,\n",
              " 77,\n",
              " 12,\n",
              " 41,\n",
              " 14,\n",
              " 52,\n",
              " 14,\n",
              " 53,\n",
              " 53,\n",
              " 14,\n",
              " 57,\n",
              " 57,\n",
              " 69,\n",
              " 69,\n",
              " 69,\n",
              " 57,\n",
              " 81,\n",
              " 57,\n",
              " 69,\n",
              " 69,\n",
              " 57,\n",
              " 57,\n",
              " 57,\n",
              " 92,\n",
              " 57,\n",
              " 57,\n",
              " 69,\n",
              " 57,\n",
              " 87,\n",
              " 87,\n",
              " 57,\n",
              " 57,\n",
              " 57,\n",
              " 57,\n",
              " 69,\n",
              " 69,\n",
              " 69,\n",
              " 57,\n",
              " 57,\n",
              " 57,\n",
              " 69,\n",
              " 69,\n",
              " 57,\n",
              " 57,\n",
              " 57,\n",
              " 92,\n",
              " 57,\n",
              " 57,\n",
              " 69,\n",
              " 57,\n",
              " 87,\n",
              " 87,\n",
              " 57,\n",
              " 57,\n",
              " 100,\n",
              " 100,\n",
              " 69,\n",
              " 69,\n",
              " 69,\n",
              " 100,\n",
              " 69,\n",
              " 93,\n",
              " 69,\n",
              " 69,\n",
              " 100,\n",
              " 57,\n",
              " 90,\n",
              " 92,\n",
              " 100,\n",
              " 57,\n",
              " 69,\n",
              " 6,\n",
              " 87,\n",
              " 87,\n",
              " 100,\n",
              " 93,\n",
              " 100,\n",
              " 6,\n",
              " 69,\n",
              " 69,\n",
              " 69,\n",
              " 100,\n",
              " 100,\n",
              " 100,\n",
              " 69,\n",
              " 69,\n",
              " 100,\n",
              " 57,\n",
              " 90,\n",
              " 92,\n",
              " 57,\n",
              " 100,\n",
              " 69,\n",
              " 100,\n",
              " 87,\n",
              " 87,\n",
              " 57,\n",
              " 100,\n",
              " 47,\n",
              " 6,\n",
              " 69,\n",
              " 69,\n",
              " 69,\n",
              " 47,\n",
              " 81,\n",
              " 93,\n",
              " 69,\n",
              " 69,\n",
              " 6,\n",
              " 47,\n",
              " 47,\n",
              " 92,\n",
              " 47,\n",
              " 47,\n",
              " 69,\n",
              " 6,\n",
              " 87,\n",
              " 87,\n",
              " 47,\n",
              " 93,\n",
              " 57,\n",
              " 57,\n",
              " 4,\n",
              " 4,\n",
              " 4,\n",
              " 57,\n",
              " 57,\n",
              " 4,\n",
              " 4,\n",
              " 4,\n",
              " 57,\n",
              " 57,\n",
              " 13,\n",
              " 13,\n",
              " 100,\n",
              " 57,\n",
              " 57,\n",
              " 13,\n",
              " 100,\n",
              " 100,\n",
              " 46,\n",
              " 46,\n",
              " 13,\n",
              " 13,\n",
              " 13,\n",
              " 57,\n",
              " 57,\n",
              " 57,\n",
              " 84,\n",
              " 57,\n",
              " 57,\n",
              " 57,\n",
              " 57,\n",
              " 57,\n",
              " 57,\n",
              " 57,\n",
              " 57,\n",
              " 57,\n",
              " 57,\n",
              " 57,\n",
              " 57,\n",
              " 57,\n",
              " 57,\n",
              " 57,\n",
              " 57,\n",
              " 50,\n",
              " 20,\n",
              " 57,\n",
              " 57,\n",
              " 57,\n",
              " 57,\n",
              " 57,\n",
              " 57,\n",
              " 19,\n",
              " 88,\n",
              " 57,\n",
              " 57,\n",
              " 57,\n",
              " 57,\n",
              " 57,\n",
              " 97,\n",
              " 89,\n",
              " 57,\n",
              " 57,\n",
              " 57,\n",
              " 19,\n",
              " 57,\n",
              " 78,\n",
              " 78,\n",
              " 78,\n",
              " 20,\n",
              " 6,\n",
              " 57,\n",
              " 57,\n",
              " 20,\n",
              " 97,\n",
              " 57,\n",
              " 78,\n",
              " 78,\n",
              " 57,\n",
              " 3,\n",
              " 80,\n",
              " 57,\n",
              " 57,\n",
              " 80,\n",
              " 39,\n",
              " 43,\n",
              " 43,\n",
              " 57,\n",
              " 91,\n",
              " 57,\n",
              " 57,\n",
              " 57,\n",
              " 57,\n",
              " 57,\n",
              " 57,\n",
              " 84,\n",
              " 57,\n",
              " 57,\n",
              " 57,\n",
              " 57,\n",
              " 57,\n",
              " 57,\n",
              " 57,\n",
              " 57,\n",
              " 57,\n",
              " 57,\n",
              " 57,\n",
              " 57,\n",
              " 57,\n",
              " 57,\n",
              " 57,\n",
              " 57,\n",
              " 50,\n",
              " 20,\n",
              " 57,\n",
              " 57,\n",
              " 57,\n",
              " 43,\n",
              " 57,\n",
              " 57,\n",
              " 19,\n",
              " 88,\n",
              " 57,\n",
              " 57,\n",
              " 57,\n",
              " 57,\n",
              " 57,\n",
              " 97,\n",
              " 89,\n",
              " 57,\n",
              " 57,\n",
              " 57,\n",
              " 19,\n",
              " 57,\n",
              " 78,\n",
              " 78,\n",
              " 78,\n",
              " 20,\n",
              " 6,\n",
              " 57,\n",
              " 57,\n",
              " 20,\n",
              " 97,\n",
              " 57,\n",
              " 78,\n",
              " 78,\n",
              " 57,\n",
              " 3,\n",
              " 80,\n",
              " 57,\n",
              " 57,\n",
              " 80,\n",
              " 39,\n",
              " 43,\n",
              " 43,\n",
              " 57,\n",
              " 91,\n",
              " 57,\n",
              " 57,\n",
              " 57,\n",
              " 100,\n",
              " 10,\n",
              " 57,\n",
              " 84,\n",
              " 100,\n",
              " 100,\n",
              " 100,\n",
              " 57,\n",
              " 100,\n",
              " 30,\n",
              " 100,\n",
              " 62,\n",
              " 62,\n",
              " 62,\n",
              " 100,\n",
              " 100,\n",
              " 57,\n",
              " 89,\n",
              " 57,\n",
              " 100,\n",
              " 50,\n",
              " 100,\n",
              " 57,\n",
              " 62,\n",
              " 43,\n",
              " 100,\n",
              " 100,\n",
              " 19,\n",
              " 100,\n",
              " 89,\n",
              " 89,\n",
              " 100,\n",
              " 89,\n",
              " 57,\n",
              " 97,\n",
              " 89,\n",
              " 57,\n",
              " 57,\n",
              " 100,\n",
              " 19,\n",
              " 89,\n",
              " 78,\n",
              " 78,\n",
              " 78,\n",
              " 20,\n",
              " 100,\n",
              " 100,\n",
              " 100,\n",
              " 20,\n",
              " 97,\n",
              " 100,\n",
              " 78,\n",
              " 57,\n",
              " 3,\n",
              " 80,\n",
              " 48,\n",
              " 100,\n",
              " 80,\n",
              " 39,\n",
              " 43,\n",
              " 43,\n",
              " 57,\n",
              " 91,\n",
              " 57,\n",
              " 57,\n",
              " 100,\n",
              " 100,\n",
              " 10,\n",
              " 57,\n",
              " 84,\n",
              " 57,\n",
              " 100,\n",
              " 57,\n",
              " 57,\n",
              " 100,\n",
              " 30,\n",
              " 100,\n",
              " 100,\n",
              " 100,\n",
              " 62,\n",
              " 62,\n",
              " 100,\n",
              " 89,\n",
              " 100,\n",
              " 100,\n",
              " 100,\n",
              " 20,\n",
              " 100,\n",
              " 57,\n",
              " 100,\n",
              " 43,\n",
              " 57,\n",
              " 100,\n",
              " 19,\n",
              " 100,\n",
              " 89,\n",
              " 100,\n",
              " 100,\n",
              " 89,\n",
              " 100,\n",
              " 100,\n",
              " 89,\n",
              " 57,\n",
              " 57,\n",
              " 57,\n",
              " 19,\n",
              " 89,\n",
              " 78,\n",
              " 78,\n",
              " 78,\n",
              " 100,\n",
              " 100,\n",
              " 100,\n",
              " 57,\n",
              " 100,\n",
              " 97,\n",
              " 100,\n",
              " 78,\n",
              " 78,\n",
              " 57,\n",
              " 3,\n",
              " 80,\n",
              " 48,\n",
              " 100,\n",
              " 80,\n",
              " 39,\n",
              " 43,\n",
              " 43,\n",
              " 57,\n",
              " 91,\n",
              " 78,\n",
              " 57,\n",
              " 48,\n",
              " 30,\n",
              " 84,\n",
              " 30,\n",
              " 62,\n",
              " 62,\n",
              " 62,\n",
              " 62,\n",
              " 62,\n",
              " 47,\n",
              " 89,\n",
              " 62,\n",
              " 50,\n",
              " 47,\n",
              " 47,\n",
              " 43,\n",
              " 47,\n",
              " 19,\n",
              " 88,\n",
              " 89,\n",
              " 89,\n",
              " 89,\n",
              " 97,\n",
              " 89,\n",
              " 19,\n",
              " 89,\n",
              " 78,\n",
              " 78,\n",
              " 78,\n",
              " 47,\n",
              " 6,\n",
              " 47,\n",
              " 97,\n",
              " 78,\n",
              " 78,\n",
              " 3,\n",
              " 80,\n",
              " 48,\n",
              " 80,\n",
              " 39,\n",
              " 43,\n",
              " 43,\n",
              " 91,\n",
              " 78,\n",
              " 48]"
            ]
          },
          "metadata": {
            "tags": []
          },
          "execution_count": 23
        }
      ]
    },
    {
      "cell_type": "code",
      "metadata": {
        "id": "H4HKgO65NQMd",
        "colab_type": "code",
        "colab": {}
      },
      "source": [
        "fdfD= pd.DataFrame(l1) \n",
        "fdfF= pd.DataFrame(l2) \n",
        "fdfH= pd.DataFrame(l3) \n",
        "fdfJ= pd.DataFrame(l4) \n",
        "fdfL= pd.DataFrame(l5) "
      ],
      "execution_count": 24,
      "outputs": []
    },
    {
      "cell_type": "code",
      "metadata": {
        "id": "FUFsBh3PN8B6",
        "colab_type": "code",
        "colab": {}
      },
      "source": [
        "X3['D'] = fdfD\n",
        "X3['F'] = fdfF\n",
        "X3['H'] = fdfH\n",
        "X3['J'] = fdfJ\n",
        "X3['L'] = fdfL"
      ],
      "execution_count": 25,
      "outputs": []
    },
    {
      "cell_type": "markdown",
      "metadata": {
        "id": "mRubLO33tR-a",
        "colab_type": "text"
      },
      "source": [
        "X3 is the cleaned data ,i.e., Conditions Column(All conditions with same name in 5 columns are taken as unique and replaced by a unique no. (to increase the accuracy this preprocessing is done))."
      ]
    },
    {
      "cell_type": "code",
      "metadata": {
        "id": "w_D7u5aihxzz",
        "colab_type": "code",
        "colab": {
          "base_uri": "https://localhost:8080/",
          "height": 419
        },
        "outputId": "05d6e1f9-fe2d-4bb6-fdb0-dfe8a7847190"
      },
      "source": [
        "X3 "
      ],
      "execution_count": 26,
      "outputs": [
        {
          "output_type": "execute_result",
          "data": {
            "text/html": [
              "<div>\n",
              "<style scoped>\n",
              "    .dataframe tbody tr th:only-of-type {\n",
              "        vertical-align: middle;\n",
              "    }\n",
              "\n",
              "    .dataframe tbody tr th {\n",
              "        vertical-align: top;\n",
              "    }\n",
              "\n",
              "    .dataframe thead th {\n",
              "        text-align: right;\n",
              "    }\n",
              "</style>\n",
              "<table border=\"1\" class=\"dataframe\">\n",
              "  <thead>\n",
              "    <tr style=\"text-align: right;\">\n",
              "      <th></th>\n",
              "      <th>D</th>\n",
              "      <th>E</th>\n",
              "      <th>F</th>\n",
              "      <th>G</th>\n",
              "      <th>H</th>\n",
              "      <th>I</th>\n",
              "      <th>J</th>\n",
              "      <th>K</th>\n",
              "      <th>L</th>\n",
              "      <th>M</th>\n",
              "      <th>N</th>\n",
              "    </tr>\n",
              "  </thead>\n",
              "  <tbody>\n",
              "    <tr>\n",
              "      <th>0</th>\n",
              "      <td>58</td>\n",
              "      <td>2</td>\n",
              "      <td>61</td>\n",
              "      <td>2</td>\n",
              "      <td>21</td>\n",
              "      <td>1</td>\n",
              "      <td>45</td>\n",
              "      <td>1</td>\n",
              "      <td>42</td>\n",
              "      <td>1</td>\n",
              "      <td>-1</td>\n",
              "    </tr>\n",
              "    <tr>\n",
              "      <th>1</th>\n",
              "      <td>99</td>\n",
              "      <td>2</td>\n",
              "      <td>58</td>\n",
              "      <td>2</td>\n",
              "      <td>61</td>\n",
              "      <td>2</td>\n",
              "      <td>32</td>\n",
              "      <td>1</td>\n",
              "      <td>28</td>\n",
              "      <td>1</td>\n",
              "      <td>-1</td>\n",
              "    </tr>\n",
              "    <tr>\n",
              "      <th>2</th>\n",
              "      <td>58</td>\n",
              "      <td>2</td>\n",
              "      <td>21</td>\n",
              "      <td>2</td>\n",
              "      <td>61</td>\n",
              "      <td>2</td>\n",
              "      <td>37</td>\n",
              "      <td>1</td>\n",
              "      <td>45</td>\n",
              "      <td>1</td>\n",
              "      <td>-1</td>\n",
              "    </tr>\n",
              "    <tr>\n",
              "      <th>3</th>\n",
              "      <td>58</td>\n",
              "      <td>2</td>\n",
              "      <td>61</td>\n",
              "      <td>2</td>\n",
              "      <td>21</td>\n",
              "      <td>1</td>\n",
              "      <td>45</td>\n",
              "      <td>1</td>\n",
              "      <td>46</td>\n",
              "      <td>1</td>\n",
              "      <td>-1</td>\n",
              "    </tr>\n",
              "    <tr>\n",
              "      <th>4</th>\n",
              "      <td>99</td>\n",
              "      <td>1</td>\n",
              "      <td>32</td>\n",
              "      <td>1</td>\n",
              "      <td>61</td>\n",
              "      <td>1</td>\n",
              "      <td>21</td>\n",
              "      <td>1</td>\n",
              "      <td>45</td>\n",
              "      <td>1</td>\n",
              "      <td>-1</td>\n",
              "    </tr>\n",
              "    <tr>\n",
              "      <th>...</th>\n",
              "      <td>...</td>\n",
              "      <td>...</td>\n",
              "      <td>...</td>\n",
              "      <td>...</td>\n",
              "      <td>...</td>\n",
              "      <td>...</td>\n",
              "      <td>...</td>\n",
              "      <td>...</td>\n",
              "      <td>...</td>\n",
              "      <td>...</td>\n",
              "      <td>...</td>\n",
              "    </tr>\n",
              "    <tr>\n",
              "      <th>605</th>\n",
              "      <td>43</td>\n",
              "      <td>1</td>\n",
              "      <td>89</td>\n",
              "      <td>1</td>\n",
              "      <td>96</td>\n",
              "      <td>1</td>\n",
              "      <td>78</td>\n",
              "      <td>1</td>\n",
              "      <td>1</td>\n",
              "      <td>-1</td>\n",
              "      <td>-1</td>\n",
              "    </tr>\n",
              "    <tr>\n",
              "      <th>606</th>\n",
              "      <td>43</td>\n",
              "      <td>1</td>\n",
              "      <td>89</td>\n",
              "      <td>1</td>\n",
              "      <td>96</td>\n",
              "      <td>1</td>\n",
              "      <td>78</td>\n",
              "      <td>1</td>\n",
              "      <td>1</td>\n",
              "      <td>-1</td>\n",
              "      <td>-1</td>\n",
              "    </tr>\n",
              "    <tr>\n",
              "      <th>607</th>\n",
              "      <td>91</td>\n",
              "      <td>2</td>\n",
              "      <td>95</td>\n",
              "      <td>1</td>\n",
              "      <td>71</td>\n",
              "      <td>1</td>\n",
              "      <td>1</td>\n",
              "      <td>-1</td>\n",
              "      <td>74</td>\n",
              "      <td>-1</td>\n",
              "      <td>-1</td>\n",
              "    </tr>\n",
              "    <tr>\n",
              "      <th>608</th>\n",
              "      <td>78</td>\n",
              "      <td>1</td>\n",
              "      <td>1</td>\n",
              "      <td>-1</td>\n",
              "      <td>74</td>\n",
              "      <td>-1</td>\n",
              "      <td>74</td>\n",
              "      <td>-1</td>\n",
              "      <td>74</td>\n",
              "      <td>-1</td>\n",
              "      <td>-1</td>\n",
              "    </tr>\n",
              "    <tr>\n",
              "      <th>609</th>\n",
              "      <td>48</td>\n",
              "      <td>1</td>\n",
              "      <td>1</td>\n",
              "      <td>-1</td>\n",
              "      <td>74</td>\n",
              "      <td>-1</td>\n",
              "      <td>74</td>\n",
              "      <td>-1</td>\n",
              "      <td>74</td>\n",
              "      <td>-1</td>\n",
              "      <td>-1</td>\n",
              "    </tr>\n",
              "  </tbody>\n",
              "</table>\n",
              "<p>610 rows × 11 columns</p>\n",
              "</div>"
            ],
            "text/plain": [
              "      D  E   F   G   H   I   J   K   L   M   N\n",
              "0    58  2  61   2  21   1  45   1  42   1  -1\n",
              "1    99  2  58   2  61   2  32   1  28   1  -1\n",
              "2    58  2  21   2  61   2  37   1  45   1  -1\n",
              "3    58  2  61   2  21   1  45   1  46   1  -1\n",
              "4    99  1  32   1  61   1  21   1  45   1  -1\n",
              "..   .. ..  ..  ..  ..  ..  ..  ..  ..  ..  ..\n",
              "605  43  1  89   1  96   1  78   1   1  -1  -1\n",
              "606  43  1  89   1  96   1  78   1   1  -1  -1\n",
              "607  91  2  95   1  71   1   1  -1  74  -1  -1\n",
              "608  78  1   1  -1  74  -1  74  -1  74  -1  -1\n",
              "609  48  1   1  -1  74  -1  74  -1  74  -1  -1\n",
              "\n",
              "[610 rows x 11 columns]"
            ]
          },
          "metadata": {
            "tags": []
          },
          "execution_count": 26
        }
      ]
    },
    {
      "cell_type": "code",
      "metadata": {
        "id": "4g-6BIJxm22T",
        "colab_type": "code",
        "colab": {}
      },
      "source": [
        "X2=X2.iloc[:,:-1]\n",
        "X3=X3.iloc[:,:-1]"
      ],
      "execution_count": 27,
      "outputs": []
    },
    {
      "cell_type": "markdown",
      "metadata": {
        "id": "QWoiwgWFv5ZM",
        "colab_type": "text"
      },
      "source": [
        "LabelEncoding the values"
      ]
    },
    {
      "cell_type": "code",
      "metadata": {
        "id": "RBYBgSI0nPOe",
        "colab_type": "code",
        "colab": {}
      },
      "source": [
        "from sklearn.preprocessing import LabelEncoder\n",
        "le = LabelEncoder()\n",
        "X2.iloc[:,0]=le.fit_transform(X2.iloc[:,0])\n",
        "X2.iloc[:,1]=le.fit_transform(X2.iloc[:,1])\n",
        "X3.iloc[:,0]=le.fit_transform(X3.iloc[:,0])\n",
        "X3.iloc[:,2]=le.fit_transform(X3.iloc[:,2])\n",
        "X3.iloc[:,4]=le.fit_transform(X3.iloc[:,4])\n",
        "X3.iloc[:,6]=le.fit_transform(X3.iloc[:,6])\n",
        "X3.iloc[:,8]=le.fit_transform(X3.iloc[:,8])"
      ],
      "execution_count": 28,
      "outputs": []
    },
    {
      "cell_type": "markdown",
      "metadata": {
        "id": "G_nhYuNAv9p1",
        "colab_type": "text"
      },
      "source": [
        "Splitting into Train and Test set"
      ]
    },
    {
      "cell_type": "code",
      "metadata": {
        "id": "a8rh1VsRl_-Q",
        "colab_type": "code",
        "colab": {}
      },
      "source": [
        "from sklearn.model_selection import train_test_split\n",
        "X_train, X_test, y_train, y_test=train_test_split(X2,X3, test_size=0.2, random_state =0)"
      ],
      "execution_count": 29,
      "outputs": []
    },
    {
      "cell_type": "markdown",
      "metadata": {
        "id": "qeDuYqS7wCgq",
        "colab_type": "text"
      },
      "source": [
        "Feature Scaling"
      ]
    },
    {
      "cell_type": "code",
      "metadata": {
        "id": "BPPlWQ3KmJDQ",
        "colab_type": "code",
        "colab": {}
      },
      "source": [
        "from sklearn.preprocessing import MinMaxScaler\n",
        "mms = MinMaxScaler()\n",
        "X_train = mms.fit_transform(X_train)\n",
        "X_test = mms.transform(X_test)\n",
        "y_train = mms.fit_transform(y_train)\n",
        "y_test = mms.transform(y_test)"
      ],
      "execution_count": 30,
      "outputs": []
    },
    {
      "cell_type": "code",
      "metadata": {
        "id": "dM3Lol6Mnsbn",
        "colab_type": "code",
        "colab": {}
      },
      "source": [
        "ann=tf.keras.models.Sequential()\n",
        "ann.add(tf.keras.layers.Dense(units=9,activation='relu'))\n",
        "ann.add(tf.keras.layers.Dense(units=9,activation='relu'))\n",
        "ann.add(tf.keras.layers.Dense(units=10))"
      ],
      "execution_count": 33,
      "outputs": []
    },
    {
      "cell_type": "code",
      "metadata": {
        "id": "cJxOCTstnwxr",
        "colab_type": "code",
        "colab": {}
      },
      "source": [
        "ann.compile(optimizer= 'adam', loss= 'mean_squared_error')"
      ],
      "execution_count": 44,
      "outputs": []
    },
    {
      "cell_type": "code",
      "metadata": {
        "id": "RQ6P9QrSny5h",
        "colab_type": "code",
        "colab": {
          "base_uri": "https://localhost:8080/",
          "height": 1000
        },
        "outputId": "af1d5c2e-8d79-477d-eee0-84b36ff640fe"
      },
      "source": [
        "ann.fit(X_train,y_train, batch_size= 10, epochs= 100) "
      ],
      "execution_count": 45,
      "outputs": [
        {
          "output_type": "stream",
          "text": [
            "Epoch 1/100\n",
            "49/49 [==============================] - 0s 1ms/step - loss: 0.0954\n",
            "Epoch 2/100\n",
            "49/49 [==============================] - 0s 1ms/step - loss: 0.0954\n",
            "Epoch 3/100\n",
            "49/49 [==============================] - 0s 1ms/step - loss: 0.0954\n",
            "Epoch 4/100\n",
            "49/49 [==============================] - 0s 1ms/step - loss: 0.0954\n",
            "Epoch 5/100\n",
            "49/49 [==============================] - 0s 1ms/step - loss: 0.0954\n",
            "Epoch 6/100\n",
            "49/49 [==============================] - 0s 1ms/step - loss: 0.0954\n",
            "Epoch 7/100\n",
            "49/49 [==============================] - 0s 1ms/step - loss: 0.0954\n",
            "Epoch 8/100\n",
            "49/49 [==============================] - 0s 1ms/step - loss: 0.0953\n",
            "Epoch 9/100\n",
            "49/49 [==============================] - 0s 1ms/step - loss: 0.0953\n",
            "Epoch 10/100\n",
            "49/49 [==============================] - 0s 1ms/step - loss: 0.0954\n",
            "Epoch 11/100\n",
            "49/49 [==============================] - 0s 1ms/step - loss: 0.0952\n",
            "Epoch 12/100\n",
            "49/49 [==============================] - 0s 1ms/step - loss: 0.0952\n",
            "Epoch 13/100\n",
            "49/49 [==============================] - 0s 1ms/step - loss: 0.0953\n",
            "Epoch 14/100\n",
            "49/49 [==============================] - 0s 1ms/step - loss: 0.0954\n",
            "Epoch 15/100\n",
            "49/49 [==============================] - 0s 1ms/step - loss: 0.0953\n",
            "Epoch 16/100\n",
            "49/49 [==============================] - 0s 1ms/step - loss: 0.0952\n",
            "Epoch 17/100\n",
            "49/49 [==============================] - 0s 1ms/step - loss: 0.0951\n",
            "Epoch 18/100\n",
            "49/49 [==============================] - 0s 1ms/step - loss: 0.0951\n",
            "Epoch 19/100\n",
            "49/49 [==============================] - 0s 1ms/step - loss: 0.0951\n",
            "Epoch 20/100\n",
            "49/49 [==============================] - 0s 1ms/step - loss: 0.0951\n",
            "Epoch 21/100\n",
            "49/49 [==============================] - 0s 1ms/step - loss: 0.0954\n",
            "Epoch 22/100\n",
            "49/49 [==============================] - 0s 1ms/step - loss: 0.0952\n",
            "Epoch 23/100\n",
            "49/49 [==============================] - 0s 1ms/step - loss: 0.0953\n",
            "Epoch 24/100\n",
            "49/49 [==============================] - 0s 1ms/step - loss: 0.0950\n",
            "Epoch 25/100\n",
            "49/49 [==============================] - 0s 1ms/step - loss: 0.0951\n",
            "Epoch 26/100\n",
            "49/49 [==============================] - 0s 1ms/step - loss: 0.0951\n",
            "Epoch 27/100\n",
            "49/49 [==============================] - 0s 1ms/step - loss: 0.0951\n",
            "Epoch 28/100\n",
            "49/49 [==============================] - 0s 1ms/step - loss: 0.0951\n",
            "Epoch 29/100\n",
            "49/49 [==============================] - 0s 1ms/step - loss: 0.0951\n",
            "Epoch 30/100\n",
            "49/49 [==============================] - 0s 1ms/step - loss: 0.0951\n",
            "Epoch 31/100\n",
            "49/49 [==============================] - 0s 1ms/step - loss: 0.0950\n",
            "Epoch 32/100\n",
            "49/49 [==============================] - 0s 1ms/step - loss: 0.0951\n",
            "Epoch 33/100\n",
            "49/49 [==============================] - 0s 1ms/step - loss: 0.0950\n",
            "Epoch 34/100\n",
            "49/49 [==============================] - 0s 1ms/step - loss: 0.0949\n",
            "Epoch 35/100\n",
            "49/49 [==============================] - 0s 1ms/step - loss: 0.0950\n",
            "Epoch 36/100\n",
            "49/49 [==============================] - 0s 1ms/step - loss: 0.0949\n",
            "Epoch 37/100\n",
            "49/49 [==============================] - 0s 1ms/step - loss: 0.0949\n",
            "Epoch 38/100\n",
            "49/49 [==============================] - 0s 1ms/step - loss: 0.0949\n",
            "Epoch 39/100\n",
            "49/49 [==============================] - 0s 1ms/step - loss: 0.0949\n",
            "Epoch 40/100\n",
            "49/49 [==============================] - 0s 1ms/step - loss: 0.0948\n",
            "Epoch 41/100\n",
            "49/49 [==============================] - 0s 1ms/step - loss: 0.0949\n",
            "Epoch 42/100\n",
            "49/49 [==============================] - 0s 1ms/step - loss: 0.0949\n",
            "Epoch 43/100\n",
            "49/49 [==============================] - 0s 1ms/step - loss: 0.0948\n",
            "Epoch 44/100\n",
            "49/49 [==============================] - 0s 1ms/step - loss: 0.0949\n",
            "Epoch 45/100\n",
            "49/49 [==============================] - 0s 1ms/step - loss: 0.0948\n",
            "Epoch 46/100\n",
            "49/49 [==============================] - 0s 1ms/step - loss: 0.0947\n",
            "Epoch 47/100\n",
            "49/49 [==============================] - 0s 1ms/step - loss: 0.0949\n",
            "Epoch 48/100\n",
            "49/49 [==============================] - 0s 1ms/step - loss: 0.0949\n",
            "Epoch 49/100\n",
            "49/49 [==============================] - 0s 1ms/step - loss: 0.0949\n",
            "Epoch 50/100\n",
            "49/49 [==============================] - 0s 1ms/step - loss: 0.0947\n",
            "Epoch 51/100\n",
            "49/49 [==============================] - 0s 1ms/step - loss: 0.0948\n",
            "Epoch 52/100\n",
            "49/49 [==============================] - 0s 1ms/step - loss: 0.0947\n",
            "Epoch 53/100\n",
            "49/49 [==============================] - 0s 1ms/step - loss: 0.0947\n",
            "Epoch 54/100\n",
            "49/49 [==============================] - 0s 1ms/step - loss: 0.0947\n",
            "Epoch 55/100\n",
            "49/49 [==============================] - 0s 1ms/step - loss: 0.0948\n",
            "Epoch 56/100\n",
            "49/49 [==============================] - 0s 1ms/step - loss: 0.0947\n",
            "Epoch 57/100\n",
            "49/49 [==============================] - 0s 1ms/step - loss: 0.0947\n",
            "Epoch 58/100\n",
            "49/49 [==============================] - 0s 1ms/step - loss: 0.0947\n",
            "Epoch 59/100\n",
            "49/49 [==============================] - 0s 1ms/step - loss: 0.0947\n",
            "Epoch 60/100\n",
            "49/49 [==============================] - 0s 1ms/step - loss: 0.0945\n",
            "Epoch 61/100\n",
            "49/49 [==============================] - 0s 1ms/step - loss: 0.0948\n",
            "Epoch 62/100\n",
            "49/49 [==============================] - 0s 1ms/step - loss: 0.0948\n",
            "Epoch 63/100\n",
            "49/49 [==============================] - 0s 1ms/step - loss: 0.0946\n",
            "Epoch 64/100\n",
            "49/49 [==============================] - 0s 1ms/step - loss: 0.0947\n",
            "Epoch 65/100\n",
            "49/49 [==============================] - 0s 1ms/step - loss: 0.0946\n",
            "Epoch 66/100\n",
            "49/49 [==============================] - 0s 1ms/step - loss: 0.0947\n",
            "Epoch 67/100\n",
            "49/49 [==============================] - 0s 1ms/step - loss: 0.0948\n",
            "Epoch 68/100\n",
            "49/49 [==============================] - 0s 1ms/step - loss: 0.0944\n",
            "Epoch 69/100\n",
            "49/49 [==============================] - 0s 1ms/step - loss: 0.0946\n",
            "Epoch 70/100\n",
            "49/49 [==============================] - 0s 1ms/step - loss: 0.0944\n",
            "Epoch 71/100\n",
            "49/49 [==============================] - 0s 1ms/step - loss: 0.0944\n",
            "Epoch 72/100\n",
            "49/49 [==============================] - 0s 1ms/step - loss: 0.0944\n",
            "Epoch 73/100\n",
            "49/49 [==============================] - 0s 1ms/step - loss: 0.0944\n",
            "Epoch 74/100\n",
            "49/49 [==============================] - 0s 1ms/step - loss: 0.0944\n",
            "Epoch 75/100\n",
            "49/49 [==============================] - 0s 1ms/step - loss: 0.0944\n",
            "Epoch 76/100\n",
            "49/49 [==============================] - 0s 1ms/step - loss: 0.0943\n",
            "Epoch 77/100\n",
            "49/49 [==============================] - 0s 1ms/step - loss: 0.0945\n",
            "Epoch 78/100\n",
            "49/49 [==============================] - 0s 1ms/step - loss: 0.0944\n",
            "Epoch 79/100\n",
            "49/49 [==============================] - 0s 1ms/step - loss: 0.0943\n",
            "Epoch 80/100\n",
            "49/49 [==============================] - 0s 1ms/step - loss: 0.0944\n",
            "Epoch 81/100\n",
            "49/49 [==============================] - 0s 1ms/step - loss: 0.0945\n",
            "Epoch 82/100\n",
            "49/49 [==============================] - 0s 1ms/step - loss: 0.0943\n",
            "Epoch 83/100\n",
            "49/49 [==============================] - 0s 1ms/step - loss: 0.0942\n",
            "Epoch 84/100\n",
            "49/49 [==============================] - 0s 1ms/step - loss: 0.0943\n",
            "Epoch 85/100\n",
            "49/49 [==============================] - 0s 1ms/step - loss: 0.0942\n",
            "Epoch 86/100\n",
            "49/49 [==============================] - 0s 1ms/step - loss: 0.0943\n",
            "Epoch 87/100\n",
            "49/49 [==============================] - 0s 1ms/step - loss: 0.0943\n",
            "Epoch 88/100\n",
            "49/49 [==============================] - 0s 1ms/step - loss: 0.0943\n",
            "Epoch 89/100\n",
            "49/49 [==============================] - 0s 1ms/step - loss: 0.0942\n",
            "Epoch 90/100\n",
            "49/49 [==============================] - 0s 1ms/step - loss: 0.0941\n",
            "Epoch 91/100\n",
            "49/49 [==============================] - 0s 1ms/step - loss: 0.0942\n",
            "Epoch 92/100\n",
            "49/49 [==============================] - 0s 1ms/step - loss: 0.0942\n",
            "Epoch 93/100\n",
            "49/49 [==============================] - 0s 1ms/step - loss: 0.0941\n",
            "Epoch 94/100\n",
            "49/49 [==============================] - 0s 1ms/step - loss: 0.0944\n",
            "Epoch 95/100\n",
            "49/49 [==============================] - 0s 1ms/step - loss: 0.0942\n",
            "Epoch 96/100\n",
            "49/49 [==============================] - 0s 1ms/step - loss: 0.0941\n",
            "Epoch 97/100\n",
            "49/49 [==============================] - 0s 1ms/step - loss: 0.0941\n",
            "Epoch 98/100\n",
            "49/49 [==============================] - 0s 1ms/step - loss: 0.0940\n",
            "Epoch 99/100\n",
            "49/49 [==============================] - 0s 1ms/step - loss: 0.0941\n",
            "Epoch 100/100\n",
            "49/49 [==============================] - 0s 1ms/step - loss: 0.0942\n"
          ],
          "name": "stdout"
        },
        {
          "output_type": "execute_result",
          "data": {
            "text/plain": [
              "<tensorflow.python.keras.callbacks.History at 0x7f331dcbc1d0>"
            ]
          },
          "metadata": {
            "tags": []
          },
          "execution_count": 45
        }
      ]
    },
    {
      "cell_type": "markdown",
      "metadata": {
        "id": "Viq1azkFwUvX",
        "colab_type": "text"
      },
      "source": [
        "Saving the model weights"
      ]
    },
    {
      "cell_type": "code",
      "metadata": {
        "id": "oNc_LE2Ssj4P",
        "colab_type": "code",
        "colab": {}
      },
      "source": [
        "ann.save('w1a2.h5')"
      ],
      "execution_count": 46,
      "outputs": []
    },
    {
      "cell_type": "code",
      "metadata": {
        "id": "358wemO_sqC4",
        "colab_type": "code",
        "colab": {}
      },
      "source": [
        "from keras.models import load_model"
      ],
      "execution_count": 47,
      "outputs": []
    },
    {
      "cell_type": "code",
      "metadata": {
        "id": "5HEr2CfJsvt5",
        "colab_type": "code",
        "colab": {}
      },
      "source": [
        "classifierLoad = tf.keras.models.load_model('/content/w1a2.h5')"
      ],
      "execution_count": 48,
      "outputs": []
    },
    {
      "cell_type": "code",
      "metadata": {
        "id": "i9MEPx3Ds47M",
        "colab_type": "code",
        "colab": {
          "base_uri": "https://localhost:8080/",
          "height": 68
        },
        "outputId": "477f5d33-5be1-4c0e-b77f-a31ea6cd1d7f"
      },
      "source": [
        "y_pred = classifierLoad.predict([[0.25     , 0.1023622]])\n",
        "y_pred"
      ],
      "execution_count": 49,
      "outputs": [
        {
          "output_type": "execute_result",
          "data": {
            "text/plain": [
              "array([[0.6006093 , 0.20074855, 0.5293522 , 0.58369464, 0.42821574,\n",
              "        0.5004339 , 0.36172783, 0.85198957, 0.3692497 , 0.61309755]],\n",
              "      dtype=float32)"
            ]
          },
          "metadata": {
            "tags": []
          },
          "execution_count": 49
        }
      ]
    },
    {
      "cell_type": "code",
      "metadata": {
        "id": "JePRIBl7s9hq",
        "colab_type": "code",
        "colab": {}
      },
      "source": [
        "y_new_inverse = mms.inverse_transform(y_pred)"
      ],
      "execution_count": 50,
      "outputs": []
    },
    {
      "cell_type": "code",
      "metadata": {
        "id": "zUctskwns-ZT",
        "colab_type": "code",
        "colab": {
          "base_uri": "https://localhost:8080/",
          "height": 68
        },
        "outputId": "953963dd-407d-4b7d-a9bd-22da2249fcd5"
      },
      "source": [
        "y_new_inverse"
      ],
      "execution_count": 51,
      "outputs": [
        {
          "output_type": "execute_result",
          "data": {
            "text/plain": [
              "array([[27.027418  ,  1.4014971 , 23.820848  ,  1.3347785 , 21.839003  ,\n",
              "         1.0017357 , 17.362936  ,  0.70397913, 17.723986  ,  0.2261951 ]],\n",
              "      dtype=float32)"
            ]
          },
          "metadata": {
            "tags": []
          },
          "execution_count": 51
        }
      ]
    },
    {
      "cell_type": "code",
      "metadata": {
        "id": "Ik9TbtPItFNP",
        "colab_type": "code",
        "colab": {
          "base_uri": "https://localhost:8080/",
          "height": 255
        },
        "outputId": "b28359d7-7f30-4499-e811-73906074c942"
      },
      "source": [
        "ann.summary()"
      ],
      "execution_count": 52,
      "outputs": [
        {
          "output_type": "stream",
          "text": [
            "Model: \"sequential_1\"\n",
            "_________________________________________________________________\n",
            "Layer (type)                 Output Shape              Param #   \n",
            "=================================================================\n",
            "dense_3 (Dense)              multiple                  27        \n",
            "_________________________________________________________________\n",
            "dense_4 (Dense)              multiple                  90        \n",
            "_________________________________________________________________\n",
            "dense_5 (Dense)              multiple                  100       \n",
            "=================================================================\n",
            "Total params: 217\n",
            "Trainable params: 217\n",
            "Non-trainable params: 0\n",
            "_________________________________________________________________\n"
          ],
          "name": "stdout"
        }
      ]
    }
  ]
}
